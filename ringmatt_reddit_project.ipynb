{
 "cells": [
  {
   "cell_type": "markdown",
   "id": "45e24818-874c-4a1c-bbec-31995beead19",
   "metadata": {
    "tags": []
   },
   "source": [
    "# Matt Ring - Reddit Project"
   ]
  },
  {
   "cell_type": "markdown",
   "id": "3d5da93e-b1bb-42a8-909a-24c17a85c8eb",
   "metadata": {
    "jp-MarkdownHeadingCollapsed": true,
    "tags": []
   },
   "source": [
    "## 1. Load Data\n",
    "\n",
    "Import relevant packages and data. Subsets data to smaller, more manageable sizes."
   ]
  },
  {
   "cell_type": "markdown",
   "id": "31472461-d990-4b83-a1ee-79e9f41f532e",
   "metadata": {},
   "source": [
    "### Putting data into your own bucket"
   ]
  },
  {
   "cell_type": "markdown",
   "id": "126e3bc1-53f5-4e01-90ba-f0206e1693e8",
   "metadata": {},
   "source": [
    "In the following cell, you will copy your assigned subreddit from the central teaching bucket to your own persaonl bucket. This cell MUST only be executed once per account!!"
   ]
  },
  {
   "cell_type": "code",
   "execution_count": 1,
   "id": "3606e95b-18ea-4075-abcc-1dce0b07e203",
   "metadata": {},
   "outputs": [],
   "source": [
    "#!aws s3 cp s3://bigdatateaching/reddit/subreddits/AskReddit/ s3://mar420-labdata/reddit --recursive"
   ]
  },
  {
   "cell_type": "markdown",
   "id": "598eb41d-197c-4f0d-b207-a229e211d97c",
   "metadata": {},
   "source": [
    "### Reading your entire dataset"
   ]
  },
  {
   "cell_type": "code",
   "execution_count": 2,
   "id": "b9dc1d0a-0264-4efe-86d4-3d0756c99c9f",
   "metadata": {},
   "outputs": [],
   "source": [
    "import findspark\n",
    "findspark.init()"
   ]
  },
  {
   "cell_type": "code",
   "execution_count": 3,
   "id": "9db156f0-e1b0-4dad-99b2-a0a247af9e68",
   "metadata": {},
   "outputs": [],
   "source": [
    "import pyspark.sql.functions as f\n",
    "from pyspark.sql.functions import isnan, when, count, col, lit, desc, mean, expr, countDistinct, dayofweek, hour, to_date, udf\n",
    "from pyspark.sql import SparkSession\n",
    "from datetime import datetime\n",
    "import numpy as np\n",
    "import seaborn as sns\n",
    "import pandas as pd\n",
    "import matplotlib.pyplot as plt"
   ]
  },
  {
   "cell_type": "code",
   "execution_count": 4,
   "id": "3a82ccb4-e218-4821-a2fd-784909105238",
   "metadata": {},
   "outputs": [
    {
     "name": "stderr",
     "output_type": "stream",
     "text": [
      "Setting default log level to \"WARN\".\n",
      "To adjust logging level use sc.setLogLevel(newLevel). For SparkR, use setLogLevel(newLevel).\n",
      "22/04/30 16:00:09 WARN Client: Neither spark.yarn.jars nor spark.yarn.archive is set, falling back to uploading libraries under SPARK_HOME.\n",
      "22/04/30 16:00:17 WARN YarnSchedulerBackend$YarnSchedulerEndpoint: Attempted to request executors before the AM has registered!\n"
     ]
    }
   ],
   "source": [
    "spark = SparkSession.builder.appName(\"reddit\").getOrCreate()"
   ]
  },
  {
   "cell_type": "markdown",
   "id": "a6564496-f89d-4cd0-8920-1b9ab3448ea1",
   "metadata": {},
   "source": [
    "Make sure your SparkSession is active:"
   ]
  },
  {
   "cell_type": "code",
   "execution_count": 5,
   "id": "705a305d-7dbb-4c08-a7f7-0fee39840510",
   "metadata": {},
   "outputs": [
    {
     "data": {
      "text/html": [
       "\n",
       "            <div>\n",
       "                <p><b>SparkSession - in-memory</b></p>\n",
       "                \n",
       "        <div>\n",
       "            <p><b>SparkContext</b></p>\n",
       "\n",
       "            <p><a href=\"http://ip-172-31-6-56.ec2.internal:4040\">Spark UI</a></p>\n",
       "\n",
       "            <dl>\n",
       "              <dt>Version</dt>\n",
       "                <dd><code>v3.0.0-amzn-0</code></dd>\n",
       "              <dt>Master</dt>\n",
       "                <dd><code>yarn</code></dd>\n",
       "              <dt>AppName</dt>\n",
       "                <dd><code>reddit</code></dd>\n",
       "            </dl>\n",
       "        </div>\n",
       "        \n",
       "            </div>\n",
       "        "
      ],
      "text/plain": [
       "<pyspark.sql.session.SparkSession at 0x7f5348ce8990>"
      ]
     },
     "execution_count": 5,
     "metadata": {},
     "output_type": "execute_result"
    }
   ],
   "source": [
    "spark"
   ]
  },
  {
   "cell_type": "code",
   "execution_count": 6,
   "id": "edcfea00-1b0c-4c76-94c8-672551d39aba",
   "metadata": {},
   "outputs": [
    {
     "name": "stderr",
     "output_type": "stream",
     "text": [
      "                                                                                \r"
     ]
    }
   ],
   "source": [
    "df_full = spark.read.parquet('s3://mar420-labdata/reddit')"
   ]
  },
  {
   "cell_type": "code",
   "execution_count": 7,
   "id": "5cd34f43-88b7-4433-b687-b074a3995c58",
   "metadata": {},
   "outputs": [
    {
     "name": "stderr",
     "output_type": "stream",
     "text": [
      "22/04/30 16:00:28 WARN package: Truncated the string representation of a plan since it was too large. This behavior can be adjusted by setting 'spark.sql.debug.maxToStringFields'.\n",
      "                                                                                \r"
     ]
    },
    {
     "data": {
      "text/plain": [
       "161464560"
      ]
     },
     "execution_count": 7,
     "metadata": {},
     "output_type": "execute_result"
    }
   ],
   "source": [
    "df_full.count()"
   ]
  },
  {
   "cell_type": "markdown",
   "id": "4674dd19-4610-43bf-9add-be638eea625f",
   "metadata": {},
   "source": [
    "### Reading one month worth of data"
   ]
  },
  {
   "cell_type": "code",
   "execution_count": 8,
   "id": "ef20a13c-78f1-4e49-b1a2-4e79e885cb19",
   "metadata": {
    "tags": []
   },
   "outputs": [],
   "source": [
    "#!aws s3 ls s3://mar420-labdata/reddit/"
   ]
  },
  {
   "cell_type": "code",
   "execution_count": 9,
   "id": "c1ea9584-1436-4b0d-a9ef-4d33cb0b41bb",
   "metadata": {},
   "outputs": [],
   "source": [
    "# Extract data from June 2021 only\n",
    "df = spark.read.parquet('s3://mar420-labdata/reddit/ym_partition=202106')"
   ]
  },
  {
   "cell_type": "code",
   "execution_count": 10,
   "id": "d582b200-8ce3-44a5-ae39-cceb9af83c46",
   "metadata": {},
   "outputs": [
    {
     "data": {
      "text/plain": [
       "6235880"
      ]
     },
     "execution_count": 10,
     "metadata": {},
     "output_type": "execute_result"
    }
   ],
   "source": [
    "# Assess the number of comments in r/AskReddit during June of 2021\n",
    "df.count()\n",
    "# ~6 million comments"
   ]
  },
  {
   "cell_type": "markdown",
   "id": "add5d9f8-b75b-45e4-a290-77afb2762332",
   "metadata": {},
   "source": [
    "### Developing on a small piece of your data"
   ]
  },
  {
   "cell_type": "code",
   "execution_count": 11,
   "id": "19a87477-c0d5-4563-a82a-4f0e7b57c0ba",
   "metadata": {},
   "outputs": [],
   "source": [
    "# Extract 10,000 comments from this month\n",
    "df_small = df.limit(10000)"
   ]
  },
  {
   "cell_type": "code",
   "execution_count": 12,
   "id": "cf34c1bc-9c61-4423-b1ee-efa2cc19a1d3",
   "metadata": {},
   "outputs": [
    {
     "data": {
      "text/plain": [
       "10000"
      ]
     },
     "execution_count": 12,
     "metadata": {},
     "output_type": "execute_result"
    }
   ],
   "source": [
    "# Ensure we got the right number of comments\n",
    "df_small.count()"
   ]
  },
  {
   "cell_type": "code",
   "execution_count": 13,
   "id": "e9d987ed-eeb6-4f6d-aa84-84d034682d48",
   "metadata": {
    "tags": []
   },
   "outputs": [
    {
     "name": "stderr",
     "output_type": "stream",
     "text": [
      "[Stage 11:======================================================> (47 + 1) / 48]\r"
     ]
    },
    {
     "name": "stdout",
     "output_type": "stream",
     "text": [
      "+-------------+----------------+-------------------+------------------+-----------------------------+----------------------+---------------------+------------------------+-----------------+-----------------------+-----------------+---------------+--------------------+--------------+--------+--------------------+--------+------------+---------+-------------------------------+----------------+------------+----------------+-----------+-------------+------+------+--------+-------+------------+---------+------+---------+----------+--------------------+-----------+--------------+------------+-----+------------+--------+------------+-----------------------+--------------+----------------+---------------------+--------------+--------------+--------+--------------+\n",
      "|all_awardings|associated_award|             author|author_created_utc|author_flair_background_color|author_flair_css_class|author_flair_richtext|author_flair_template_id|author_flair_text|author_flair_text_color|author_flair_type|author_fullname|author_patreon_flair|author_premium|awarders|                body|can_gild|can_mod_post|collapsed|collapsed_because_crowd_control|collapsed_reason|comment_type|controversiality|created_utc|distinguished|edited|gilded|gildings|     id|is_submitter|  link_id|locked|no_follow| parent_id|           permalink|quarantined|removal_reason|retrieved_on|score|send_replies|stickied|subreddit_id|subreddit_name_prefixed|subreddit_type|top_awarded_type|total_awards_received|treatment_tags|author_cakeday|editable|media_metadata|\n",
      "+-------------+----------------+-------------------+------------------+-----------------------------+----------------------+---------------------+------------------------+-----------------+-----------------------+-----------------+---------------+--------------------+--------------+--------+--------------------+--------+------------+---------+-------------------------------+----------------+------------+----------------+-----------+-------------+------+------+--------+-------+------------+---------+------+---------+----------+--------------------+-----------+--------------+------------+-----+------------+--------+------------+-----------------------+--------------+----------------+---------------------+--------------+--------------+--------+--------------+\n",
      "|           []|            None|            Senphox|     1.392867813E9|                         null|                  null|                   []|                    null|             null|                   null|             text|       t2_fczgj|               false|         false|    null|Maybe the bottom ...|    true|       false|    false|                           null|            null|        null|               0| 1622520259|         null|  null|     0|      {}|h05o9uf|       false|t3_npbnyq| false|    false|t1_h0568jb|/r/AskReddit/comm...|      false|          null|        null|   26|        true|   false|    t5_2qh1i|                   null|        public|            null|                    0|            []|          null|    null|           nan|\n",
      "|           []|            None|          [deleted]|              null|                             |                  null|                  nan|                    null|             null|                   dark|             null|           null|                null|          null|    null|           [removed]|    true|       false|     true|                           null|            null|        null|               0| 1622520259|         null|  null|     0|      {}|h05o9uq|       false|t3_npbnyq| false|     true|t1_h05o7qt|/r/AskReddit/comm...|      false|          null|        null|    1|        true|   false|    t5_2qh1i|                   null|        public|            null|                    0|            []|          null|    null|           nan|\n",
      "|           []|            None|   coolfreeusername|     1.571728098E9|                         null|                  null|                   []|                    null|             null|                   null|             text|    t2_4umynn8a|               false|         false|    null|I was either 13 o...|    true|       false|    false|                           null|            null|        null|               0| 1622520260|         null|  null|     0|      {}|h05o9ve|       false|t3_npknqd| false|     true| t3_npknqd|/r/AskReddit/comm...|      false|          null|        null|    1|        true|   false|    t5_2qh1i|                   null|        public|            null|                    0|            []|          null|    null|           nan|\n",
      "|           []|            None|DeletusTheFetus1234|      1.62200549E9|                         null|                  null|                   []|                    null|             null|                   null|             text|    t2_cc80jtna|               false|         false|    null|    When i got shot.|    true|       false|    false|                           null|            null|        null|               0| 1622520260|         null|  null|     0|      {}|h05o9wq|       false|t3_npji0e| false|     true| t3_npji0e|/r/AskReddit/comm...|      false|          null|        null|    1|        true|   false|    t5_2qh1i|                   null|        public|            null|                    0|            []|          null|    null|           nan|\n",
      "|           []|            None|writingwithmovement|     1.540318251E9|                         null|                  null|                   []|                    null|             null|                   null|             text|    t2_2gr96b2s|               false|         false|    null|That said, the 4K...|    true|       false|    false|                           null|            null|        null|               0| 1622520261|         null|  null|     0|      {}|h05o9xw|       false|t3_npj6sc| false|    false|t1_h05dfgg|/r/AskReddit/comm...|      false|          null|        null|    1|        true|   false|    t5_2qh1i|                   null|        public|            null|                    0|            []|          null|    null|           nan|\n",
      "+-------------+----------------+-------------------+------------------+-----------------------------+----------------------+---------------------+------------------------+-----------------+-----------------------+-----------------+---------------+--------------------+--------------+--------+--------------------+--------+------------+---------+-------------------------------+----------------+------------+----------------+-----------+-------------+------+------+--------+-------+------------+---------+------+---------+----------+--------------------+-----------+--------------+------------+-----+------------+--------+------------+-----------------------+--------------+----------------+---------------------+--------------+--------------+--------+--------------+\n",
      "only showing top 5 rows\n",
      "\n"
     ]
    },
    {
     "name": "stderr",
     "output_type": "stream",
     "text": [
      "                                                                                \r"
     ]
    }
   ],
   "source": [
    "# Show the first 5 comments\n",
    "df_small.show(5)"
   ]
  },
  {
   "cell_type": "markdown",
   "id": "b6675543-3967-44df-a1de-64004157c3cf",
   "metadata": {
    "tags": []
   },
   "source": [
    "## 2. Cleaning & Exploration\n",
    "\n",
    "Explore the types and distriutions of each feature, then clean accordingly."
   ]
  },
  {
   "cell_type": "markdown",
   "id": "444d16dc-a561-4941-a147-cc86b6fd1d68",
   "metadata": {
    "jp-MarkdownHeadingCollapsed": true,
    "tags": []
   },
   "source": [
    "### Feature Types\n",
    "Simply prints the feature type of each column in the dataset."
   ]
  },
  {
   "cell_type": "code",
   "execution_count": 14,
   "id": "dd7a25cb-922a-4574-b1d4-cd6e86d4a43d",
   "metadata": {
    "tags": []
   },
   "outputs": [
    {
     "name": "stdout",
     "output_type": "stream",
     "text": [
      "root\n",
      " |-- all_awardings: string (nullable = true)\n",
      " |-- associated_award: string (nullable = true)\n",
      " |-- author: string (nullable = true)\n",
      " |-- author_created_utc: double (nullable = true)\n",
      " |-- author_flair_background_color: string (nullable = true)\n",
      " |-- author_flair_css_class: string (nullable = true)\n",
      " |-- author_flair_richtext: string (nullable = true)\n",
      " |-- author_flair_template_id: string (nullable = true)\n",
      " |-- author_flair_text: string (nullable = true)\n",
      " |-- author_flair_text_color: string (nullable = true)\n",
      " |-- author_flair_type: string (nullable = true)\n",
      " |-- author_fullname: string (nullable = true)\n",
      " |-- author_patreon_flair: boolean (nullable = true)\n",
      " |-- author_premium: boolean (nullable = true)\n",
      " |-- awarders: string (nullable = true)\n",
      " |-- body: string (nullable = true)\n",
      " |-- can_gild: boolean (nullable = true)\n",
      " |-- can_mod_post: boolean (nullable = true)\n",
      " |-- collapsed: boolean (nullable = true)\n",
      " |-- collapsed_because_crowd_control: string (nullable = true)\n",
      " |-- collapsed_reason: string (nullable = true)\n",
      " |-- comment_type: string (nullable = true)\n",
      " |-- controversiality: long (nullable = true)\n",
      " |-- created_utc: long (nullable = true)\n",
      " |-- distinguished: string (nullable = true)\n",
      " |-- edited: double (nullable = true)\n",
      " |-- gilded: long (nullable = true)\n",
      " |-- gildings: string (nullable = true)\n",
      " |-- id: string (nullable = true)\n",
      " |-- is_submitter: boolean (nullable = true)\n",
      " |-- link_id: string (nullable = true)\n",
      " |-- locked: boolean (nullable = true)\n",
      " |-- no_follow: boolean (nullable = true)\n",
      " |-- parent_id: string (nullable = true)\n",
      " |-- permalink: string (nullable = true)\n",
      " |-- quarantined: boolean (nullable = true)\n",
      " |-- removal_reason: string (nullable = true)\n",
      " |-- retrieved_on: long (nullable = true)\n",
      " |-- score: long (nullable = true)\n",
      " |-- send_replies: boolean (nullable = true)\n",
      " |-- stickied: boolean (nullable = true)\n",
      " |-- subreddit_id: string (nullable = true)\n",
      " |-- subreddit_name_prefixed: string (nullable = true)\n",
      " |-- subreddit_type: string (nullable = true)\n",
      " |-- top_awarded_type: string (nullable = true)\n",
      " |-- total_awards_received: long (nullable = true)\n",
      " |-- treatment_tags: string (nullable = true)\n",
      " |-- author_cakeday: boolean (nullable = true)\n",
      " |-- editable: boolean (nullable = true)\n",
      " |-- media_metadata: string (nullable = true)\n",
      "\n"
     ]
    }
   ],
   "source": [
    "# Assess the features in these data\n",
    "df.printSchema()"
   ]
  },
  {
   "cell_type": "markdown",
   "id": "c746f82c-2f1b-4c61-9f2b-5689ef5e115a",
   "metadata": {
    "jp-MarkdownHeadingCollapsed": true,
    "tags": []
   },
   "source": [
    "### Missing Data\n",
    "\n",
    "Checks for initial missing data. Fills in missing data where missing values represent something important. Removes other columns with too much missing data (e.g. 90%+ of data missing)."
   ]
  },
  {
   "cell_type": "code",
   "execution_count": 15,
   "id": "4fb96b4a-2ecd-4023-8652-406d4b83a6b1",
   "metadata": {
    "tags": []
   },
   "outputs": [],
   "source": [
    "# Separate non-boolean and boolean variables\n",
    "data_type = dict(df.dtypes)\n",
    "keys = list(data_type.keys())\n",
    "vals = list(data_type.values())\n",
    "booleans = [l  == \"boolean\" for l in vals]\n",
    "non_bool = [l  != \"boolean\" for l in vals]\n",
    "non_bool_cols = [keys[i] for i in range(len(keys)) if non_bool[i]]\n",
    "bool_cols = [keys[i] for i in range(len(keys)) if booleans[i]]"
   ]
  },
  {
   "cell_type": "code",
   "execution_count": 16,
   "id": "9bce09b7-dc3a-472e-b2f8-bea38ec5d6b6",
   "metadata": {
    "tags": []
   },
   "outputs": [
    {
     "name": "stderr",
     "output_type": "stream",
     "text": [
      "[Stage 16:>                                                         (0 + 1) / 1]\r"
     ]
    },
    {
     "name": "stdout",
     "output_type": "stream",
     "text": [
      "+-------------+----------------+------+------------------+-----------------------------+----------------------+---------------------+------------------------+-----------------+-----------------------+-----------------+---------------+--------+----+-------------------------------+----------------+------------+----------------+-----------+-------------+------+------+--------+---+-------+---------+---------+--------------+------------+-----+------------+-----------------------+--------------+----------------+---------------------+--------------+--------------+\n",
      "|all_awardings|associated_award|author|author_created_utc|author_flair_background_color|author_flair_css_class|author_flair_richtext|author_flair_template_id|author_flair_text|author_flair_text_color|author_flair_type|author_fullname|awarders|body|collapsed_because_crowd_control|collapsed_reason|comment_type|controversiality|created_utc|distinguished|edited|gilded|gildings| id|link_id|parent_id|permalink|removal_reason|retrieved_on|score|subreddit_id|subreddit_name_prefixed|subreddit_type|top_awarded_type|total_awards_received|treatment_tags|media_metadata|\n",
      "+-------------+----------------+------+------------------+-----------------------------+----------------------+---------------------+------------------------+-----------------+-----------------------+-----------------+---------------+--------+----+-------------------------------+----------------+------------+----------------+-----------+-------------+------+------+--------+---+-------+---------+---------+--------------+------------+-----+------------+-----------------------+--------------+----------------+---------------------+--------------+--------------+\n",
      "|            0|               0|     0|               986|                         9014|                 10000|                  986|                   10000|            10000|                   9014|              986|            986|   10000|   0|                          10000|            9946|       10000|               0|          0|         9853|  9779|     0|       0|  0|      0|        0|        0|         10000|       10000|    0|           0|                  10000|             0|           10000|                    0|             0|         10000|\n",
      "+-------------+----------------+------+------------------+-----------------------------+----------------------+---------------------+------------------------+-----------------+-----------------------+-----------------+---------------+--------+----+-------------------------------+----------------+------------+----------------+-----------+-------------+------+------+--------+---+-------+---------+---------+--------------+------------+-----+------------+-----------------------+--------------+----------------+---------------------+--------------+--------------+\n",
      "\n"
     ]
    },
    {
     "name": "stderr",
     "output_type": "stream",
     "text": [
      "                                                                                \r"
     ]
    }
   ],
   "source": [
    "# Check the number of missing features per non-boolean column\n",
    "df_small.select([count(when(isnan(c) | col(c).isNull(), c)).alias(c) for c in non_bool_cols]).show()"
   ]
  },
  {
   "cell_type": "markdown",
   "id": "081e4024-dc5b-4126-9999-95ce4ad82109",
   "metadata": {
    "tags": []
   },
   "source": [
    "Non-boolean columns missing 90% or more of their values for this month are as follows:\n",
    "1. author_flair_background_color\n",
    "2. author_flair_css_class\n",
    "2. author_flair_template_id\n",
    "3. author_flair_text\n",
    "4. author_flair_text_color\n",
    "4. awarders\n",
    "5. collapsed_because_crowd_control\n",
    "5. collapsed_reason\n",
    "6. comment_type\n",
    "6. distinguished\n",
    "7. edited\n",
    "7. removal_reason\n",
    "8. retrieved_on\n",
    "9. subreddit_name_prefixed\n",
    "10. top_awarded_type\n",
    "11. media_metadata"
   ]
  },
  {
   "cell_type": "code",
   "execution_count": 17,
   "id": "cb526a30-e996-4b7c-8715-2fbbd70fe55d",
   "metadata": {
    "tags": []
   },
   "outputs": [
    {
     "name": "stderr",
     "output_type": "stream",
     "text": [
      "[Stage 19:>                                                         (0 + 1) / 1]\r"
     ]
    },
    {
     "name": "stdout",
     "output_type": "stream",
     "text": [
      "+-------------+----------------+------+------------------+---------------------+-----------------+---------------+----+----------------+-----------+------+--------+---+-------+---------+---------+-----+------------+--------------+---------------------+--------------+\n",
      "|all_awardings|associated_award|author|author_created_utc|author_flair_richtext|author_flair_type|author_fullname|body|controversiality|created_utc|gilded|gildings| id|link_id|parent_id|permalink|score|subreddit_id|subreddit_type|total_awards_received|treatment_tags|\n",
      "+-------------+----------------+------+------------------+---------------------+-----------------+---------------+----+----------------+-----------+------+--------+---+-------+---------+---------+-----+------------+--------------+---------------------+--------------+\n",
      "|            0|               0|     0|               845|                  845|              845|            845|   0|               0|          0|     0|       0|  0|      0|        0|        0|    0|           0|             0|                    0|             0|\n",
      "+-------------+----------------+------+------------------+---------------------+-----------------+---------------+----+----------------+-----------+------+--------+---+-------+---------+---------+-----+------------+--------------+---------------------+--------------+\n",
      "\n"
     ]
    },
    {
     "name": "stderr",
     "output_type": "stream",
     "text": [
      "                                                                                \r"
     ]
    }
   ],
   "source": [
    "# Repeat the above after removing columns with no data\n",
    "no_data_cols = [\"author_flair_background_color\", \"author_flair_css_class\", \"author_flair_template_id\",\n",
    "                \"author_flair_text\", \"author_flair_text_color\", \"awarders\", \"collapsed_because_crowd_control\",\n",
    "                \"collapsed_reason\", \"comment_type\", \"removal_reason\", \"retrieved_on\", \"subreddit_name_prefixed\",\n",
    "                \"distinguished\", \"edited\", \"top_awarded_type\", \"media_metadata\"]\n",
    "non_bool_cols_v2 = [c for c in non_bool_cols if c not in no_data_cols]\n",
    "df_small.select([count(when(isnan(c) | col(c).isNull(), c)).alias(c) for c in non_bool_cols_v2]).show()"
   ]
  },
  {
   "cell_type": "code",
   "execution_count": 18,
   "id": "205662fe-9ed7-498d-81e6-6729e6f18855",
   "metadata": {},
   "outputs": [
    {
     "name": "stderr",
     "output_type": "stream",
     "text": [
      "                                                                                \r"
     ]
    },
    {
     "data": {
      "text/plain": [
       "[Row(distinguished='moderator', count=171),\n",
       " Row(distinguished=None, count=9829)]"
      ]
     },
     "execution_count": 18,
     "metadata": {},
     "output_type": "execute_result"
    }
   ],
   "source": [
    "# Check if the \"distinguished\" category has an obvious replacement for missing values\n",
    "df_small.groupby('distinguished').count().collect()"
   ]
  },
  {
   "cell_type": "code",
   "execution_count": 19,
   "id": "e33c1752-e228-4129-8416-e01ba16e905e",
   "metadata": {
    "tags": []
   },
   "outputs": [],
   "source": [
    "# Check if the \"edited\" category has an obvious replacement for missing values\n",
    "#df_small.groupby('edited').count().collect()"
   ]
  },
  {
   "cell_type": "markdown",
   "id": "ef5b77cb-b8a6-4e12-8c20-8cf101105bf5",
   "metadata": {},
   "source": [
    "After some review, it appears the `edited` variable has no discernable rationale, with each value being unique. The `distinguished` category means that a comment was visibly flagged as posted by a moderator. Thus, missing values here have meaning and will be replaced with \"non-distinguished\"."
   ]
  },
  {
   "cell_type": "code",
   "execution_count": 20,
   "id": "96044413-03ef-4cd7-8c09-fb34a9ca0a06",
   "metadata": {
    "tags": []
   },
   "outputs": [],
   "source": [
    "# Replace missing values in the \"distinguished\" category\n",
    "df_small = df_small.na.fill(value=\"non_distinguished\",subset=[\"distinguished\"])\n",
    "df = df.na.fill(value=\"non_distinguished\",subset=[\"distinguished\"])\n",
    "df_full = df_full.na.fill(value=\"non_distinguished\",subset=[\"distinguished\"])"
   ]
  },
  {
   "cell_type": "code",
   "execution_count": 21,
   "id": "7a0243b0-19e5-4541-a4f1-bd1addb14600",
   "metadata": {},
   "outputs": [],
   "source": [
    "# Create a list of rows missing 90%+ of their data\n",
    "non_bool_cols_v2.append(\"distinguished\")\n",
    "to_drop = [c for c in keys if (c not in bool_cols) & (c not in non_bool_cols_v2)]"
   ]
  },
  {
   "cell_type": "code",
   "execution_count": 22,
   "id": "e983b420-71ca-4038-8faf-ae21a0200046",
   "metadata": {
    "tags": []
   },
   "outputs": [],
   "source": [
    "# Drop rows missing at least 90% of their values\n",
    "df_small = df_small.drop(*to_drop)\n",
    "df = df.drop(*to_drop)\n",
    "df_full = df_full.drop(*to_drop)"
   ]
  },
  {
   "cell_type": "code",
   "execution_count": 23,
   "id": "3fa274af-ee55-42c3-9658-0706cab5ccb6",
   "metadata": {},
   "outputs": [
    {
     "name": "stderr",
     "output_type": "stream",
     "text": [
      "                                                                                \r"
     ]
    }
   ],
   "source": [
    "# Save intermediate data\n",
    "df_full.write.format('csv').option('header','true').save(\"s3://mar420-labdata/df_full_rm_sparse_cols\", mode=\"overwrite\")"
   ]
  },
  {
   "cell_type": "markdown",
   "id": "1430388e-317a-459b-a86c-dd30b135ff37",
   "metadata": {
    "jp-MarkdownHeadingCollapsed": true,
    "tags": []
   },
   "source": [
    "### Categorical Feature Counts\n",
    "\n",
    "Assesses distributions in categorical features. Subsets to only those with meaningful and useful infromation. Removes those without enough data, too imbalanced, or unknown meaning."
   ]
  },
  {
   "cell_type": "code",
   "execution_count": 24,
   "id": "bd9e5124-7a47-4fce-8d17-22c3d690f071",
   "metadata": {
    "tags": []
   },
   "outputs": [
    {
     "name": "stdout",
     "output_type": "stream",
     "text": [
      "+--------------------+---------+\n",
      "|       all_awardings|instances|\n",
      "+--------------------+---------+\n",
      "|                  []|     9972|\n",
      "|[{'award_sub_type...|        5|\n",
      "|[{'award_sub_type...|        4|\n",
      "|[{'award_sub_type...|        4|\n",
      "|[{'award_sub_type...|        2|\n",
      "|[{'award_sub_type...|        2|\n",
      "|[{'award_sub_type...|        1|\n",
      "|[{'award_sub_type...|        1|\n",
      "|[{'award_sub_type...|        1|\n",
      "|[{'award_sub_type...|        1|\n",
      "|[{'award_sub_type...|        1|\n",
      "|[{'award_sub_type...|        1|\n",
      "|[{'award_sub_type...|        1|\n",
      "|[{'award_sub_type...|        1|\n",
      "|[{'award_sub_type...|        1|\n",
      "|[{'award_sub_type...|        1|\n",
      "|[{'award_sub_type...|        1|\n",
      "+--------------------+---------+\n",
      "\n"
     ]
    },
    {
     "name": "stderr",
     "output_type": "stream",
     "text": [
      "                                                                                \r"
     ]
    }
   ],
   "source": [
    "# Check the counts for values of all awardings\n",
    "df_small.groupBy('all_awardings').count().select(f.col(\"all_awardings\").alias(\"all_awardings\"),f.col(\"count\").alias(\"instances\")).sort(desc(\"count\")).show()"
   ]
  },
  {
   "cell_type": "markdown",
   "id": "d61c7402-f964-44c6-b2a7-432e63b5f6cf",
   "metadata": {},
   "source": [
    "To see exactly what `all_awardings` shows, one can run this code: df.groupby('all_awardings').count().collect().\n",
    "\n",
    "The content of this feature is strange and uninformative, the `associated_award` variable likely has more succinct and useful information. The vast majority of values here are empty lists."
   ]
  },
  {
   "cell_type": "code",
   "execution_count": 25,
   "id": "dc72f2b3-97aa-4b5a-b1d9-f05a389bc885",
   "metadata": {
    "tags": []
   },
   "outputs": [
    {
     "name": "stdout",
     "output_type": "stream",
     "text": [
      "+----------------+---------+\n",
      "|associated_award|instances|\n",
      "+----------------+---------+\n",
      "|            None|    10000|\n",
      "+----------------+---------+\n",
      "\n"
     ]
    }
   ],
   "source": [
    "# Check the counts for values of associated award\n",
    "df_small.groupBy('associated_award').count().select(f.col(\"associated_award\").alias(\"associated_award\"),f.col(\"count\").alias(\"instances\")).sort(desc(\"count\")).show()"
   ]
  },
  {
   "cell_type": "markdown",
   "id": "5cde4953-3900-4acf-ade2-76361e641c99",
   "metadata": {},
   "source": [
    "Associated award appears not to have any useful data for this small dataset, with all values being ***None***. There is data on \"total awards received\" later, so this will be removed."
   ]
  },
  {
   "cell_type": "code",
   "execution_count": 26,
   "id": "ed1ac515-8b3a-4a71-8ff2-cab954482e09",
   "metadata": {
    "tags": []
   },
   "outputs": [
    {
     "name": "stderr",
     "output_type": "stream",
     "text": [
      "[Stage 32:>                                                         (0 + 1) / 1]\r"
     ]
    },
    {
     "name": "stdout",
     "output_type": "stream",
     "text": [
      "+--------------------+---------+\n",
      "|              author|instances|\n",
      "+--------------------+---------+\n",
      "|           [deleted]|      836|\n",
      "|       AutoModerator|      142|\n",
      "|         I_am_a_mask|       36|\n",
      "|         Thecanman07|       36|\n",
      "|        Domesticgay_|       28|\n",
      "|    billybobjimmyjoe|       22|\n",
      "|7sagesotebamboogrove|       22|\n",
      "|           ZedLyfe51|       20|\n",
      "|             shnougz|       19|\n",
      "|         bruteski226|       19|\n",
      "|    dukedepommefrite|       19|\n",
      "|     Viva_La_Ravioli|       19|\n",
      "|       Regime-leader|       19|\n",
      "|           JetLife93|       19|\n",
      "|      AmbiguousAxiom|       19|\n",
      "|           BlaccSage|       18|\n",
      "|         Bluuryfaace|       17|\n",
      "|    TheBrokhanReaper|       17|\n",
      "|             nekurra|       17|\n",
      "|    Inner_Cress_6478|       16|\n",
      "+--------------------+---------+\n",
      "only showing top 20 rows\n",
      "\n"
     ]
    },
    {
     "name": "stderr",
     "output_type": "stream",
     "text": [
      "                                                                                \r"
     ]
    }
   ],
   "source": [
    "# Check the counts for values of author\n",
    "df_small.groupBy('author').count().select(f.col(\"author\").alias(\"author\"),f.col(\"count\").alias(\"instances\")).sort(desc(\"count\")).show()"
   ]
  },
  {
   "cell_type": "markdown",
   "id": "08084dab-07ac-461e-a938-eb7e910ba128",
   "metadata": {},
   "source": [
    "`author` could prove useful, as we see a variety of usernames. Note that some of these values are ***[deleted]*** and may need to be cleaned up. That said, `author_fullname` contains the immutable, unique versions of usernames."
   ]
  },
  {
   "cell_type": "code",
   "execution_count": 27,
   "id": "b9c54b50-69f7-4ad0-946c-25e0a06afacb",
   "metadata": {
    "tags": []
   },
   "outputs": [
    {
     "name": "stdout",
     "output_type": "stream",
     "text": [
      "+---------------------+---------+\n",
      "|author_flair_richtext|instances|\n",
      "+---------------------+---------+\n",
      "|                   []|     9014|\n",
      "|                  nan|      986|\n",
      "+---------------------+---------+\n",
      "\n"
     ]
    }
   ],
   "source": [
    "# Check the counts for values of author flair richtext\n",
    "df_small.groupBy('author_flair_richtext').count().select(f.col(\"author_flair_richtext\").alias(\"author_flair_richtext\"),f.col(\"count\").alias(\"instances\")).sort(desc(\"count\")).show()"
   ]
  },
  {
   "cell_type": "markdown",
   "id": "b5e99946-e64b-418b-a7ac-11fe759de2d4",
   "metadata": {},
   "source": [
    "This subset of the author flair variable seems particularly useless, with most values being empty lists or nan."
   ]
  },
  {
   "cell_type": "code",
   "execution_count": 28,
   "id": "8e49886d-ca5f-4470-aa29-d73d92cbf4a5",
   "metadata": {},
   "outputs": [
    {
     "name": "stdout",
     "output_type": "stream",
     "text": [
      "+-----------------+---------+\n",
      "|author_flair_type|instances|\n",
      "+-----------------+---------+\n",
      "|             text|     9164|\n",
      "|         no_flair|      836|\n",
      "+-----------------+---------+\n",
      "\n"
     ]
    }
   ],
   "source": [
    "# Replace missing values in the \"flair type\" category with \"no_flair\"\n",
    "df_small = df_small.na.fill(value=\"no_flair\",subset=[\"author_flair_type\"])\n",
    "df = df.na.fill(value=\"no_flair\",subset=[\"author_flair_type\"])\n",
    "df_full = df_full.na.fill(value=\"no_flair\",subset=[\"author_flair_type\"])\n",
    "\n",
    "# Check the counts for values of author flair type\n",
    "df_small.groupBy('author_flair_type').count().select(f.col(\"author_flair_type\").alias(\"author_flair_type\"),f.col(\"count\").alias(\"instances\")).sort(desc(\"count\")).show()"
   ]
  },
  {
   "cell_type": "markdown",
   "id": "df7f943f-3728-49da-83b2-13d821f4c9b5",
   "metadata": {},
   "source": [
    "Perhaps this could be useful, as `author_flair_type` tells us which comments are made by users with flairs. Users with flairs are likely the most active on a site."
   ]
  },
  {
   "cell_type": "code",
   "execution_count": 29,
   "id": "7ac83715-0871-47f3-bfaf-7ae3e2b1a4dd",
   "metadata": {},
   "outputs": [
    {
     "name": "stdout",
     "output_type": "stream",
     "text": [
      "+---------------+---------+\n",
      "|author_fullname|instances|\n",
      "+---------------+---------+\n",
      "|           null|      836|\n",
      "|       t2_6l4z3|      142|\n",
      "|    t2_86tzb1l5|       36|\n",
      "|    t2_3j48ubnr|       36|\n",
      "|    t2_7onn30gn|       28|\n",
      "|       t2_y44xx|       22|\n",
      "|    t2_4ydmjn9p|       22|\n",
      "|    t2_68s86ieu|       20|\n",
      "|    t2_3zdqn9nq|       19|\n",
      "|       t2_x3jqu|       19|\n",
      "|    t2_4780tu12|       19|\n",
      "|    t2_640kx40n|       19|\n",
      "|    t2_6yxg6bcc|       19|\n",
      "|       t2_675fa|       19|\n",
      "|    t2_92suklc4|       19|\n",
      "|    t2_77fmuqpj|       18|\n",
      "|    t2_4rzotzy2|       17|\n",
      "|     t2_xb26web|       17|\n",
      "|    t2_b9zwg7fm|       17|\n",
      "|    t2_896kjbrq|       16|\n",
      "+---------------+---------+\n",
      "only showing top 20 rows\n",
      "\n"
     ]
    }
   ],
   "source": [
    "# Check the counts for values of author full name\n",
    "df_small.groupBy('author_fullname').count().select(f.col(\"author_fullname\").alias(\"author_fullname\"),f.col(\"count\").alias(\"instances\")).sort(desc(\"count\")).show()"
   ]
  },
  {
   "cell_type": "markdown",
   "id": "471bee6f-c544-4955-9141-0bdfd539732d",
   "metadata": {},
   "source": [
    "The information here is the unique, immutable ID for an `author`. Will be kept."
   ]
  },
  {
   "cell_type": "code",
   "execution_count": 30,
   "id": "76277fa7-bdfc-485a-a048-4c1935a5f64b",
   "metadata": {},
   "outputs": [
    {
     "name": "stderr",
     "output_type": "stream",
     "text": [
      "[Stage 42:==================================================>     (43 + 5) / 48]\r"
     ]
    },
    {
     "name": "stdout",
     "output_type": "stream",
     "text": [
      "+--------------------+---------+\n",
      "|                body|instances|\n",
      "+--------------------+---------+\n",
      "|           [deleted]|      488|\n",
      "|           [removed]|      234|\n",
      "|**PLEASE READ THI...|       42|\n",
      "|**PLEASE READ THI...|       32|\n",
      "|**PLEASE READ THI...|       17|\n",
      "|**Attention! [Ser...|       14|\n",
      "|Was it both your ...|        8|\n",
      "|                Same|        7|\n",
      "|This submission h...|        7|\n",
      "|                Nice|        5|\n",
      "|     Happy cake day!|        4|\n",
      "|**PLEASE READ THI...|        4|\n",
      "|      Oddly specific|        3|\n",
      "|This submission h...|        3|\n",
      "|               Shrek|        3|\n",
      "|               What?|        3|\n",
      "|              Ignore|        3|\n",
      "|                  Me|        3|\n",
      "|      Apple products|        3|\n",
      "|               Same.|        3|\n",
      "+--------------------+---------+\n",
      "only showing top 20 rows\n",
      "\n"
     ]
    },
    {
     "name": "stderr",
     "output_type": "stream",
     "text": [
      "                                                                                \r"
     ]
    }
   ],
   "source": [
    "# Check the counts for values of body\n",
    "df_small.groupBy('body').count().select(f.col(\"body\").alias(\"body\"),f.col(\"count\").alias(\"instances\")).sort(desc(\"count\")).show()"
   ]
  },
  {
   "cell_type": "markdown",
   "id": "4b409c11-dc5c-4a88-b366-b19312aa5b71",
   "metadata": {},
   "source": [
    "These look to contain the body of text. Many appear to be deleted, removed, or moderator updates in bold. Some of the most common comments are simple. \"Shrek\" also appears here. This will be kept."
   ]
  },
  {
   "cell_type": "code",
   "execution_count": 31,
   "id": "f06511d4-91fc-489c-856d-4a4fe0ea86da",
   "metadata": {
    "tags": []
   },
   "outputs": [
    {
     "name": "stdout",
     "output_type": "stream",
     "text": [
      "+------------+---------+\n",
      "|    gildings|instances|\n",
      "+------------+---------+\n",
      "|          {}|     9991|\n",
      "|{'gid_1': 1}|        7|\n",
      "|{'gid_2': 1}|        2|\n",
      "+------------+---------+\n",
      "\n"
     ]
    }
   ],
   "source": [
    "# Check the counts for values of gildings\n",
    "df_small.groupBy('gildings').count().select(f.col(\"gildings\").alias(\"gildings\"),f.col(\"count\").alias(\"instances\")).sort(desc(\"count\")).show()"
   ]
  },
  {
   "cell_type": "markdown",
   "id": "40b1ae15-b868-4ee9-a246-724a6e5cd86b",
   "metadata": {},
   "source": [
    "An incredibly sparse variable, this contains only 14 non-empty dictionaries. Gildings tells something about Reddit Gold, the paid version of Reddit. This may be useful, but there is a binary variable which tells whether one is gilded that should be used as it is more interpretable."
   ]
  },
  {
   "cell_type": "code",
   "execution_count": 32,
   "id": "99d3d1b8-a87c-4808-9b73-a0766369beb9",
   "metadata": {},
   "outputs": [
    {
     "name": "stdout",
     "output_type": "stream",
     "text": [
      "+-------+---------+\n",
      "|     id|instances|\n",
      "+-------+---------+\n",
      "|h05o9uf|        1|\n",
      "|h05o9uq|        1|\n",
      "|h05o9ve|        1|\n",
      "|h05o9wq|        1|\n",
      "|h05o9xw|        1|\n",
      "|h05o9xy|        1|\n",
      "|h05o9yh|        1|\n",
      "|h05oa1h|        1|\n",
      "|h05oa2y|        1|\n",
      "|h05oa3c|        1|\n",
      "|h05oa4r|        1|\n",
      "|h05oa5j|        1|\n",
      "|h05oa5l|        1|\n",
      "|h05oa8p|        1|\n",
      "|h05oa8y|        1|\n",
      "|h05oa90|        1|\n",
      "|h05oa9a|        1|\n",
      "|h05oaa0|        1|\n",
      "|h05oaa9|        1|\n",
      "|h05oaaq|        1|\n",
      "+-------+---------+\n",
      "only showing top 20 rows\n",
      "\n"
     ]
    }
   ],
   "source": [
    "# Check the counts for values of id\n",
    "df_small.groupBy('id').count().select(f.col(\"id\").alias(\"id\"),f.col(\"count\").alias(\"instances\")).sort(desc(\"count\")).show()"
   ]
  },
  {
   "cell_type": "markdown",
   "id": "d2af9242-8e5d-476c-bdba-c2d3fbf7727c",
   "metadata": {},
   "source": [
    "This appears to uniquely idenfity comments. Will be kept."
   ]
  },
  {
   "cell_type": "code",
   "execution_count": 33,
   "id": "c9f66cda-4fd0-4351-9f5b-a90b1a42bebf",
   "metadata": {
    "tags": []
   },
   "outputs": [
    {
     "name": "stdout",
     "output_type": "stream",
     "text": [
      "+---------+---------+\n",
      "|  link_id|instances|\n",
      "+---------+---------+\n",
      "|t3_nql6xv|     1743|\n",
      "|t3_nqpuda|      314|\n",
      "|t3_nqkh7n|      266|\n",
      "|t3_nqjyhq|      184|\n",
      "|t3_nqjxe8|      184|\n",
      "|t3_o633y0|      182|\n",
      "|t3_nqks49|      166|\n",
      "|t3_o65mi1|      147|\n",
      "|t3_nq9fjc|      127|\n",
      "|t3_nqzts4|      127|\n",
      "|t3_nqu2nt|       96|\n",
      "|t3_nqp7l2|       87|\n",
      "|t3_nqzzc1|       78|\n",
      "|t3_o6446e|       72|\n",
      "|t3_nqvazw|       71|\n",
      "|t3_nql2zg|       61|\n",
      "|t3_nqk3y7|       50|\n",
      "|t3_nqqngt|       45|\n",
      "|t3_nqq1jp|       44|\n",
      "|t3_nqy6dq|       42|\n",
      "+---------+---------+\n",
      "only showing top 20 rows\n",
      "\n"
     ]
    }
   ],
   "source": [
    "# Check the counts for values of submission link id\n",
    "df_small.groupBy('link_id').count().select(f.col(\"link_id\").alias(\"link_id\"),f.col(\"count\").alias(\"instances\")).sort(desc(\"count\")).show()"
   ]
  },
  {
   "cell_type": "code",
   "execution_count": 34,
   "id": "6a081e40-adc5-4992-9cc5-0998ba35cf4f",
   "metadata": {
    "tags": []
   },
   "outputs": [
    {
     "name": "stdout",
     "output_type": "stream",
     "text": [
      "+----------+---------+\n",
      "| parent_id|instances|\n",
      "+----------+---------+\n",
      "| t3_o5jepd|      983|\n",
      "| t3_o5n00e|      734|\n",
      "| t3_o5mpk2|      310|\n",
      "| t3_o5lyoh|       89|\n",
      "| t3_o5wb8n|       68|\n",
      "| t3_o5wlse|       53|\n",
      "| t3_o5pkfr|       47|\n",
      "| t3_o5d4n8|       46|\n",
      "|t1_h2oboft|       43|\n",
      "| t3_o5m1vh|       38|\n",
      "| t3_o5l2gb|       34|\n",
      "| t3_o5n9s0|       34|\n",
      "| t3_o5wqga|       32|\n",
      "| t3_o5dmyj|       31|\n",
      "| t3_o5b2ku|       29|\n",
      "| t3_o5wrps|       29|\n",
      "| t3_o5vc3q|       28|\n",
      "| t3_o4tzin|       25|\n",
      "| t3_o5ajpu|       24|\n",
      "| t3_o5wiry|       23|\n",
      "+----------+---------+\n",
      "only showing top 20 rows\n",
      "\n"
     ]
    }
   ],
   "source": [
    "# Check the counts for values of parent comment id\n",
    "df_small.groupBy('parent_id').count().select(f.col(\"parent_id\").alias(\"parent_id\"),f.col(\"count\").alias(\"instances\")).sort(desc(\"count\")).show()"
   ]
  },
  {
   "cell_type": "markdown",
   "id": "ebf30ef2-3aab-4f56-a1f0-da27a53a8929",
   "metadata": {},
   "source": [
    "Based on comments here: https://www.reddit.com/r/pushshift/comments/u7bvu8/having_some_trouble_with_parent_ids_and_link_ids/\n",
    "\n",
    "`link_id` is the id for a particular submission and `parent_id` is the id for a comment one has replied to OR the submission. We could use this to find highly commented submissions, comment vs. score ratios, and long conversations."
   ]
  },
  {
   "cell_type": "code",
   "execution_count": 35,
   "id": "2a71e4dc-adcc-4cba-9090-85faa96937ad",
   "metadata": {
    "tags": []
   },
   "outputs": [
    {
     "name": "stdout",
     "output_type": "stream",
     "text": [
      "+--------------------+---------+\n",
      "|           permalink|instances|\n",
      "+--------------------+---------+\n",
      "|/r/AskReddit/comm...|        1|\n",
      "|/r/AskReddit/comm...|        1|\n",
      "|/r/AskReddit/comm...|        1|\n",
      "|/r/AskReddit/comm...|        1|\n",
      "|/r/AskReddit/comm...|        1|\n",
      "|/r/AskReddit/comm...|        1|\n",
      "|/r/AskReddit/comm...|        1|\n",
      "|/r/AskReddit/comm...|        1|\n",
      "|/r/AskReddit/comm...|        1|\n",
      "|/r/AskReddit/comm...|        1|\n",
      "|/r/AskReddit/comm...|        1|\n",
      "|/r/AskReddit/comm...|        1|\n",
      "|/r/AskReddit/comm...|        1|\n",
      "|/r/AskReddit/comm...|        1|\n",
      "|/r/AskReddit/comm...|        1|\n",
      "|/r/AskReddit/comm...|        1|\n",
      "|/r/AskReddit/comm...|        1|\n",
      "|/r/AskReddit/comm...|        1|\n",
      "|/r/AskReddit/comm...|        1|\n",
      "|/r/AskReddit/comm...|        1|\n",
      "+--------------------+---------+\n",
      "only showing top 20 rows\n",
      "\n"
     ]
    }
   ],
   "source": [
    "# Check the counts for values of permalink\n",
    "df_small.groupBy('permalink').count().select(f.col(\"permalink\").alias(\"permalink\"),f.col(\"count\").alias(\"instances\")).sort(desc(\"count\")).show()"
   ]
  },
  {
   "cell_type": "markdown",
   "id": "a6697801-9a3b-4653-a2f4-64d2ece450aa",
   "metadata": {},
   "source": [
    "Gives the link to the particular comment. Not necessarily useful."
   ]
  },
  {
   "cell_type": "code",
   "execution_count": 36,
   "id": "c8c458fc-439b-4050-b1a1-db012334e1a6",
   "metadata": {},
   "outputs": [
    {
     "name": "stdout",
     "output_type": "stream",
     "text": [
      "+------------+---------+\n",
      "|subreddit_id|instances|\n",
      "+------------+---------+\n",
      "|    t5_2qh1i|    10000|\n",
      "+------------+---------+\n",
      "\n"
     ]
    }
   ],
   "source": [
    "# Check the counts for values of id\n",
    "df_small.groupBy('subreddit_id').count().select(f.col(\"subreddit_id\").alias(\"subreddit_id\"),f.col(\"count\").alias(\"instances\")).sort(desc(\"count\")).show()"
   ]
  },
  {
   "cell_type": "code",
   "execution_count": 37,
   "id": "8c601572-8679-4f2d-83db-34ce3ddb0e3e",
   "metadata": {},
   "outputs": [
    {
     "name": "stderr",
     "output_type": "stream",
     "text": [
      "[Stage 63:===================================================>    (44 + 4) / 48]\r"
     ]
    },
    {
     "name": "stdout",
     "output_type": "stream",
     "text": [
      "+--------------+---------+\n",
      "|subreddit_type|instances|\n",
      "+--------------+---------+\n",
      "|        public|  6235880|\n",
      "+--------------+---------+\n",
      "\n"
     ]
    },
    {
     "name": "stderr",
     "output_type": "stream",
     "text": [
      "                                                                                \r"
     ]
    }
   ],
   "source": [
    "# Check the counts for values of id\n",
    "df.groupBy('subreddit_type').count().select(f.col(\"subreddit_type\").alias(\"subreddit_type\"),f.col(\"count\").alias(\"instances\")).sort(desc(\"count\")).show()"
   ]
  },
  {
   "cell_type": "markdown",
   "id": "dd0b09ec-d898-4ee3-a803-b60a88310384",
   "metadata": {},
   "source": [
    "Information about the subreddit. As our project focuses on a single subreddit (e.g. AskReddit), these features are of no use."
   ]
  },
  {
   "cell_type": "code",
   "execution_count": 38,
   "id": "9071117c-ee74-4dbf-a30c-252161a82e37",
   "metadata": {},
   "outputs": [
    {
     "name": "stdout",
     "output_type": "stream",
     "text": [
      "+--------------------+---------+\n",
      "|      treatment_tags|instances|\n",
      "+--------------------+---------+\n",
      "|                  []|     9999|\n",
      "|['econ:render:lot...|        1|\n",
      "+--------------------+---------+\n",
      "\n"
     ]
    }
   ],
   "source": [
    "# Check the counts for values of id\n",
    "df_small.groupBy('treatment_tags').count().select(f.col(\"treatment_tags\").alias(\"treatment_tags\"),f.col(\"count\").alias(\"instances\")).sort(desc(\"count\")).show()"
   ]
  },
  {
   "cell_type": "markdown",
   "id": "ea310cc5-30a2-428c-98b3-edbf42a8ee19",
   "metadata": {},
   "source": [
    "A feature containing only empty lists with no obvious use based on the name. Will be removed."
   ]
  },
  {
   "cell_type": "code",
   "execution_count": 39,
   "id": "9e162de6-7af4-4066-88bd-6a0c00add53d",
   "metadata": {},
   "outputs": [],
   "source": [
    "# Drop unnecessary categorical columns\n",
    "to_drop = [\"associated_award\", \"all_awardings\", \"author_flair_richtext\", \n",
    "           \"author\", \"permalink\", \"subreddit_id\", \"subreddit_type\", \"gildings\", \"treatment_tags\"]\n",
    "df_small = df_small.drop(*to_drop)\n",
    "df = df.drop(*to_drop)\n",
    "df_full = df_full.drop(*to_drop)"
   ]
  },
  {
   "cell_type": "markdown",
   "id": "b1864f21-3e5c-438e-9677-dcfb833668f8",
   "metadata": {
    "jp-MarkdownHeadingCollapsed": true,
    "tags": []
   },
   "source": [
    "### Binary Feature Counts\n",
    "\n",
    "Assesses distributions in boolean features. Subsets to only those with meaningful and useful infromation. Removes those without enough data, too imbalanced, or unknown meaning."
   ]
  },
  {
   "cell_type": "code",
   "execution_count": 40,
   "id": "58943136-5b13-4c17-8715-abd94def9750",
   "metadata": {},
   "outputs": [
    {
     "data": {
      "text/plain": [
       "['author_patreon_flair',\n",
       " 'author_premium',\n",
       " 'can_gild',\n",
       " 'can_mod_post',\n",
       " 'collapsed',\n",
       " 'is_submitter',\n",
       " 'locked',\n",
       " 'no_follow',\n",
       " 'quarantined',\n",
       " 'send_replies',\n",
       " 'stickied',\n",
       " 'author_cakeday',\n",
       " 'editable']"
      ]
     },
     "execution_count": 40,
     "metadata": {},
     "output_type": "execute_result"
    }
   ],
   "source": [
    "# Finding boolean features\n",
    "bool_cols"
   ]
  },
  {
   "cell_type": "code",
   "execution_count": 41,
   "id": "e608309b-6c2d-4eb5-857b-5c9836eb4976",
   "metadata": {},
   "outputs": [
    {
     "name": "stdout",
     "output_type": "stream",
     "text": [
      "+--------------------+---------+\n",
      "|author_patreon_flair|instances|\n",
      "+--------------------+---------+\n",
      "|               false|     9089|\n",
      "|                null|      911|\n",
      "+--------------------+---------+\n",
      "\n"
     ]
    }
   ],
   "source": [
    "# Check the counts for values of the authors patreon flair\n",
    "df_small.groupBy('author_patreon_flair').count().select(f.col(\"author_patreon_flair\").alias(\"author_patreon_flair\"),f.col(\"count\").alias(\"instances\")).sort(desc(\"count\")).show()"
   ]
  },
  {
   "cell_type": "markdown",
   "id": "582492a5-f3c7-4517-ab46-580b33449e5d",
   "metadata": {},
   "source": [
    "The above shows all falses and nulls. I'm not certain what this entails, but it doesn't match with the categorical flairs text variable. Can be dropped."
   ]
  },
  {
   "cell_type": "code",
   "execution_count": 42,
   "id": "049c0c1f-ed1d-4773-8a5b-3e6671766228",
   "metadata": {},
   "outputs": [
    {
     "name": "stdout",
     "output_type": "stream",
     "text": [
      "+--------------+---------+\n",
      "|author_premium|instances|\n",
      "+--------------+---------+\n",
      "|         false|     8683|\n",
      "|          null|      845|\n",
      "|          true|      472|\n",
      "+--------------+---------+\n",
      "\n"
     ]
    }
   ],
   "source": [
    "# Check the counts for values of whether an author is premium\n",
    "df_small.groupBy('author_premium').count().select(f.col(\"author_premium\").alias(\"author_premium\"),f.col(\"count\").alias(\"instances\")).sort(desc(\"count\")).show()"
   ]
  },
  {
   "cell_type": "code",
   "execution_count": 43,
   "id": "ebd5df62-5199-4965-8aee-8167ef45ae61",
   "metadata": {},
   "outputs": [
    {
     "name": "stdout",
     "output_type": "stream",
     "text": [
      "+--------+---------+\n",
      "|can_gild|instances|\n",
      "+--------+---------+\n",
      "|    true|     9719|\n",
      "|   false|      281|\n",
      "+--------+---------+\n",
      "\n"
     ]
    }
   ],
   "source": [
    "# Check the counts for values of whether a comment can be guilded?\n",
    "df_small.groupBy('can_gild').count().select(f.col(\"can_gild\").alias(\"can_gild\"),f.col(\"count\").alias(\"instances\")).sort(desc(\"count\")).show()"
   ]
  },
  {
   "cell_type": "code",
   "execution_count": 44,
   "id": "d17361fe-c27f-4528-8b7e-a5a2adfc0208",
   "metadata": {},
   "outputs": [
    {
     "name": "stdout",
     "output_type": "stream",
     "text": [
      "+------------+---------+\n",
      "|can_mod_post|instances|\n",
      "+------------+---------+\n",
      "|       false|    10000|\n",
      "+------------+---------+\n",
      "\n"
     ]
    }
   ],
   "source": [
    "# Check the counts for values of whether a commenter can post as a moderator\n",
    "df_small.groupBy('can_mod_post').count().select(f.col(\"can_mod_post\").alias(\"can_mod_post\"),f.col(\"count\").alias(\"instances\")).sort(desc(\"count\")).show()"
   ]
  },
  {
   "cell_type": "code",
   "execution_count": 45,
   "id": "9995ffe7-a193-4e36-b72d-e2f0f2255b52",
   "metadata": {},
   "outputs": [
    {
     "name": "stdout",
     "output_type": "stream",
     "text": [
      "+---------+---------+\n",
      "|collapsed|instances|\n",
      "+---------+---------+\n",
      "|    false|     9279|\n",
      "|     true|      721|\n",
      "+---------+---------+\n",
      "\n"
     ]
    }
   ],
   "source": [
    "# Check the counts for values of whether a commenter can post as a moderator\n",
    "df_small.groupBy('collapsed').count().select(f.col(\"collapsed\").alias(\"collapsed\"),f.col(\"count\").alias(\"instances\")).sort(desc(\"count\")).show()"
   ]
  },
  {
   "cell_type": "markdown",
   "id": "bbadfac6-a5a0-4da1-9bb1-acfa87c34b72",
   "metadata": {},
   "source": [
    "The above checks whether a comment was \"collapsed\" or not. It could be interesting to see the effect of a comments visibility on score, subcomments, etc."
   ]
  },
  {
   "cell_type": "code",
   "execution_count": 46,
   "id": "de02ce5e-ba4e-4e1b-84b4-41d790d05b26",
   "metadata": {},
   "outputs": [
    {
     "name": "stdout",
     "output_type": "stream",
     "text": [
      "+------------+---------+\n",
      "|is_submitter|instances|\n",
      "+------------+---------+\n",
      "|       false|     9643|\n",
      "|        true|      357|\n",
      "+------------+---------+\n",
      "\n"
     ]
    }
   ],
   "source": [
    "# Check the counts for values of whether a commenter is the original poster\n",
    "df_small.groupBy('is_submitter').count().select(f.col(\"is_submitter\").alias(\"is_submitter\"),f.col(\"count\").alias(\"instances\")).sort(desc(\"count\")).show()"
   ]
  },
  {
   "cell_type": "markdown",
   "id": "ebea2a76-3885-4a58-9e35-ee3337b18487",
   "metadata": {},
   "source": [
    "There are usually flairs showing this as well, we'll keep this in as it's important for the culture of Reddit."
   ]
  },
  {
   "cell_type": "code",
   "execution_count": 47,
   "id": "7643b860-f5e6-4c1a-8780-030a75b5cf47",
   "metadata": {},
   "outputs": [
    {
     "name": "stdout",
     "output_type": "stream",
     "text": [
      "+------+---------+\n",
      "|locked|instances|\n",
      "+------+---------+\n",
      "| false|     9984|\n",
      "|  true|       16|\n",
      "+------+---------+\n",
      "\n"
     ]
    }
   ],
   "source": [
    "# Check the counts for values of whether a comment is locked\n",
    "df_small.groupBy('locked').count().select(f.col(\"locked\").alias(\"locked\"),f.col(\"count\").alias(\"instances\")).sort(desc(\"count\")).show()"
   ]
  },
  {
   "cell_type": "code",
   "execution_count": 48,
   "id": "21ad19b5-0b32-41d2-b278-e32424819a9e",
   "metadata": {},
   "outputs": [
    {
     "name": "stdout",
     "output_type": "stream",
     "text": [
      "+---------+---------+\n",
      "|no_follow|instances|\n",
      "+---------+---------+\n",
      "|     true|     7358|\n",
      "|    false|     2642|\n",
      "+---------+---------+\n",
      "\n"
     ]
    }
   ],
   "source": [
    "# Check the counts for values of whether a comment is NOT being followed by anyone\n",
    "df_small.groupBy('no_follow').count().select(f.col(\"no_follow\").alias(\"no_follow\"),f.col(\"count\").alias(\"instances\")).sort(desc(\"count\")).show()"
   ]
  },
  {
   "cell_type": "markdown",
   "id": "f9052e1f-05ac-42e4-9580-590558727b7f",
   "metadata": {},
   "source": [
    "Checks whether people are following a comment, seems very useful and is a common button on Reddit. Should increase engagement, right?"
   ]
  },
  {
   "cell_type": "code",
   "execution_count": 49,
   "id": "c67f78a3-7c94-450f-8f52-996d5828c306",
   "metadata": {},
   "outputs": [
    {
     "name": "stdout",
     "output_type": "stream",
     "text": [
      "+-----------+---------+\n",
      "|quarantined|instances|\n",
      "+-----------+---------+\n",
      "|      false|    10000|\n",
      "+-----------+---------+\n",
      "\n"
     ]
    }
   ],
   "source": [
    "# Check the counts for values of whether a comment is quarantined\n",
    "df_small.groupBy('quarantined').count().select(f.col(\"quarantined\").alias(\"quarantined\"),f.col(\"count\").alias(\"instances\")).sort(desc(\"count\")).show()"
   ]
  },
  {
   "cell_type": "code",
   "execution_count": 50,
   "id": "57b0fdfb-bbdc-4658-893b-fbf7a2b9064c",
   "metadata": {},
   "outputs": [
    {
     "name": "stdout",
     "output_type": "stream",
     "text": [
      "+--------+---------+\n",
      "|stickied|instances|\n",
      "+--------+---------+\n",
      "|   false|     9986|\n",
      "|    true|       14|\n",
      "+--------+---------+\n",
      "\n"
     ]
    }
   ],
   "source": [
    "# Check the counts for values of whether a comment has been \"stuck\" to the top of a subreddit by mods\n",
    "df_small.groupBy('stickied').count().select(f.col(\"stickied\").alias(\"stickied\"),f.col(\"count\").alias(\"instances\")).sort(desc(\"count\")).show()"
   ]
  },
  {
   "cell_type": "code",
   "execution_count": 51,
   "id": "770fc192-5190-4668-8184-d2d8d37e2610",
   "metadata": {},
   "outputs": [
    {
     "name": "stdout",
     "output_type": "stream",
     "text": [
      "+--------------+---------+\n",
      "|author_cakeday|instances|\n",
      "+--------------+---------+\n",
      "|          null|     9939|\n",
      "|          true|       61|\n",
      "+--------------+---------+\n",
      "\n"
     ]
    }
   ],
   "source": [
    "# Check the counts for values of whether a comment was posted on the author's reddit anniversary\n",
    "df_small.groupBy('author_cakeday').count().select(f.col(\"author_cakeday\").alias(\"author_cakeday\"),f.col(\"count\").alias(\"instances\")).sort(desc(\"count\")).show()"
   ]
  },
  {
   "cell_type": "code",
   "execution_count": 52,
   "id": "d303bccd-f460-4fda-b519-1300514d854c",
   "metadata": {},
   "outputs": [
    {
     "name": "stdout",
     "output_type": "stream",
     "text": [
      "+--------+---------+\n",
      "|editable|instances|\n",
      "+--------+---------+\n",
      "|    null|    10000|\n",
      "+--------+---------+\n",
      "\n"
     ]
    }
   ],
   "source": [
    "# Check the counts for values of whether a comment is editable\n",
    "df_small.groupBy('editable').count().select(f.col(\"editable\").alias(\"editable\"),f.col(\"count\").alias(\"instances\")).sort(desc(\"count\")).show()"
   ]
  },
  {
   "cell_type": "code",
   "execution_count": 53,
   "id": "a6db0471-584f-4a8b-8c5a-79d1dc486f75",
   "metadata": {},
   "outputs": [],
   "source": [
    "# Drop unnecessary binary columns\n",
    "to_drop = [\"author_patreon_flair\", \"author_premium\", \"can_gild\", \"can_mod_post\", \"locked\", \"quarantined\", 'send_replies', \"stickied\", \"author_cakeday\", \"editable\"]\n",
    "df_small = df_small.drop(*to_drop)\n",
    "df = df.drop(*to_drop)\n",
    "df_full = df_full.drop(*to_drop)"
   ]
  },
  {
   "cell_type": "markdown",
   "id": "ac8ef0fa-436d-4518-83ab-dc1fca7ec4bd",
   "metadata": {
    "jp-MarkdownHeadingCollapsed": true,
    "tags": []
   },
   "source": [
    "### Continuous Feature Summaries\n",
    "\n",
    "Assesses distributions in continuous features. Subsets to only those with meaningful and useful infromation. Removes those without enough data, too imbalanced, or unknown meaning."
   ]
  },
  {
   "cell_type": "code",
   "execution_count": 54,
   "id": "203c353c-3f52-4806-b32f-04fd8f0f3f89",
   "metadata": {},
   "outputs": [
    {
     "name": "stdout",
     "output_type": "stream",
     "text": [
      "+--------------------+-----------+-------------+-------------+-----+\n",
      "|    mean_utc_created|        Q25|       median|          Q75|count|\n",
      "+--------------------+-----------+-------------+-------------+-----+\n",
      "|1.5329766589588513E9|1.4839116E9|1.569412045E9|1.606630406E9| 9089|\n",
      "+--------------------+-----------+-------------+-------------+-----+\n",
      "\n"
     ]
    }
   ],
   "source": [
    "# author_created_utc: Average, median, Q25, and Q75 fare amount alongside counts per group\n",
    "df_small.agg(mean(\"author_created_utc\").alias(\"mean_utc_created\"), \n",
    "       expr('percentile(author_created_utc, array(0.25))')[0].alias('Q25'),\n",
    "       expr('percentile(author_created_utc, array(0.5))')[0].alias('median'),\n",
    "       expr('percentile(author_created_utc, array(0.75))')[0].alias('Q75'),\n",
    "       count(\"author_created_utc\").alias(\"count\")).show(10)"
   ]
  },
  {
   "cell_type": "markdown",
   "id": "6085010a-e927-4485-94cc-95ebde7e4ca7",
   "metadata": {},
   "source": [
    "This feature may show when an author's account was created. Upon further inspection, nearly 10% of the data was missing. We'll keep this feature and remove rows missing this value as it would be awesome to investigate the relationship between time on reddit and post interactions."
   ]
  },
  {
   "cell_type": "code",
   "execution_count": 55,
   "id": "3ed1dc22-9237-4e75-ac0a-179306d17c35",
   "metadata": {},
   "outputs": [
    {
     "name": "stdout",
     "output_type": "stream",
     "text": [
      "+-----------------+-------------+-------------+-------------+-----+\n",
      "|      created_utc|          Q25|       median|          Q75|count|\n",
      "+-----------------+-------------+-------------+-------------+-----+\n",
      "|1.6243952065593E9|1.624394447E9|1.624395192E9|1.624395976E9|10000|\n",
      "+-----------------+-------------+-------------+-------------+-----+\n",
      "\n"
     ]
    },
    {
     "name": "stderr",
     "output_type": "stream",
     "text": [
      "                                                                                \r"
     ]
    }
   ],
   "source": [
    "# created_utc: Average, median, Q25, and Q75 fare amount alongside counts per group\n",
    "df_small.agg(mean(\"created_utc\").alias(\"created_utc\"), \n",
    "       expr('percentile(created_utc, array(0.25))')[0].alias('Q25'),\n",
    "       expr('percentile(created_utc, array(0.5))')[0].alias('median'),\n",
    "       expr('percentile(created_utc, array(0.75))')[0].alias('Q75'),\n",
    "       count(\"created_utc\").alias(\"count\")).show(10)"
   ]
  },
  {
   "cell_type": "markdown",
   "id": "129817cb-fcd3-49b6-aa6b-00ac095d6981",
   "metadata": {},
   "source": [
    "The above feature show when a comment was created. We will keep this."
   ]
  },
  {
   "cell_type": "code",
   "execution_count": 56,
   "id": "0d252bca-1ace-4aa8-b540-740e4c21d9c6",
   "metadata": {},
   "outputs": [
    {
     "name": "stdout",
     "output_type": "stream",
     "text": [
      "+----------------+---------+\n",
      "|controversiality|instances|\n",
      "+----------------+---------+\n",
      "|               0|     9885|\n",
      "|               1|      115|\n",
      "+----------------+---------+\n",
      "\n"
     ]
    }
   ],
   "source": [
    "# Whether a comment has as many downvotes as upvotes, indicated by a dagger symbol on Reddit\n",
    "df_small.groupBy('controversiality').count().select(f.col(\"controversiality\").alias(\"controversiality\"),f.col(\"count\").alias(\"instances\")).sort(desc(\"count\")).show()"
   ]
  },
  {
   "cell_type": "markdown",
   "id": "1cc5e221-9e98-425c-8240-8242f77aa17e",
   "metadata": {},
   "source": [
    "The above is technically a binary, per this: https://www.reddit.com/r/redditdev/comments/5bekuz/what_is_the_controversiality_value_used_for_when/\n",
    "\n",
    "Its job is \"indicating whether or not a comment has received a similar amount of upvotes to downvotes, hence being controversial.\" We'll keep it."
   ]
  },
  {
   "cell_type": "code",
   "execution_count": 57,
   "id": "eb894fce-29e1-4b2d-8968-c1651cedb144",
   "metadata": {},
   "outputs": [
    {
     "name": "stdout",
     "output_type": "stream",
     "text": [
      "+------+---------+\n",
      "|gilded|instances|\n",
      "+------+---------+\n",
      "|     0|     9998|\n",
      "|     1|        1|\n",
      "|     2|        1|\n",
      "+------+---------+\n",
      "\n"
     ]
    }
   ],
   "source": [
    "# Whether a comment earned the commenter reddit gold\n",
    "df_small.groupBy('gilded').count().select(f.col(\"gilded\").alias(\"gilded\"),f.col(\"count\").alias(\"instances\")).sort(desc(\"count\")).show()"
   ]
  },
  {
   "cell_type": "markdown",
   "id": "1cd426cf-22f0-4585-8aae-74e4f3580ea0",
   "metadata": {},
   "source": [
    "Tells whether the original poster was gilded, i.e. how man months of Reddit Gold they received. Is incredibly imbalanced, but we'll keep it for now."
   ]
  },
  {
   "cell_type": "code",
   "execution_count": 58,
   "id": "ff6da18e-69d9-43fa-ba1b-1ea96f2d8d03",
   "metadata": {},
   "outputs": [
    {
     "name": "stdout",
     "output_type": "stream",
     "text": [
      "+-----------+---+---+------+---+---+-----+\n",
      "|mean_awards|min|Q25|median|Q75|max|count|\n",
      "+-----------+---+---+------+---+---+-----+\n",
      "|     0.0127|  0|0.0|   0.0|0.0| 32|10000|\n",
      "+-----------+---+---+------+---+---+-----+\n",
      "\n"
     ]
    }
   ],
   "source": [
    "# total_awards_received: Average, median, Q25, and Q75 fare amount alongside counts per group\n",
    "df_small.agg(mean(\"total_awards_received\").alias(\"mean_awards\"),\n",
    "       f.min(\"total_awards_received\").alias('min'),\n",
    "       expr('percentile(total_awards_received, array(0.25))')[0].alias('Q25'),\n",
    "       expr('percentile(total_awards_received, array(0.5))')[0].alias('median'),\n",
    "       expr('percentile(total_awards_received, array(0.75))')[0].alias('Q75'),\n",
    "       f.max(\"total_awards_received\").alias('max'),\n",
    "       count(\"total_awards_received\").alias(\"count\")).show(10)"
   ]
  },
  {
   "cell_type": "code",
   "execution_count": 59,
   "id": "b1e7227e-79a8-4b95-83e1-b5efaa00fcba",
   "metadata": {},
   "outputs": [
    {
     "name": "stdout",
     "output_type": "stream",
     "text": [
      "+----------+---+---+------+---+-----+-----+\n",
      "|mean_score|min|Q25|median|Q75|  max|count|\n",
      "+----------+---+---+------+---+-----+-----+\n",
      "|   23.4608|-80|1.0|   1.0|2.0|22422|10000|\n",
      "+----------+---+---+------+---+-----+-----+\n",
      "\n"
     ]
    }
   ],
   "source": [
    "# author_created_utc: Average, median, Q25, and Q75 fare amount alongside counts per group\n",
    "df_small.agg(mean(\"score\").alias(\"mean_score\"),\n",
    "       f.min(\"score\").alias('min'),\n",
    "       expr('percentile(score, array(0.25))')[0].alias('Q25'),\n",
    "       expr('percentile(score, array(0.5))')[0].alias('median'),\n",
    "       expr('percentile(score, array(0.75))')[0].alias('Q75'),\n",
    "       f.max(\"score\").alias('max'),\n",
    "       count(\"score\").alias(\"count\")).show(10)"
   ]
  },
  {
   "cell_type": "markdown",
   "id": "3ab16fa0-c70e-4131-9577-8eaa6cb9312c",
   "metadata": {},
   "source": [
    "Quite possibly the most important variable here, this represents the score for a particular comment, as a sum of upvotes and downvotes."
   ]
  },
  {
   "cell_type": "markdown",
   "id": "056c7b21-af7d-4f15-9169-0e03c6ccc191",
   "metadata": {
    "jp-MarkdownHeadingCollapsed": true,
    "tags": []
   },
   "source": [
    "### Filtering\n",
    "\n",
    "Recheck for remaining nulls and remove rows with nulls this time."
   ]
  },
  {
   "cell_type": "code",
   "execution_count": 60,
   "id": "b5780592-1df1-4c45-884f-965286c8805f",
   "metadata": {},
   "outputs": [
    {
     "name": "stderr",
     "output_type": "stream",
     "text": [
      "[Stage 123:===================================================>   (45 + 3) / 48]\r"
     ]
    },
    {
     "name": "stdout",
     "output_type": "stream",
     "text": [
      "+------------------+-----------------+---------------+----+----------------+-----------+-------------+------+---+-------+---------+-----+---------------------+\n",
      "|author_created_utc|author_flair_type|author_fullname|body|controversiality|created_utc|distinguished|gilded| id|link_id|parent_id|score|total_awards_received|\n",
      "+------------------+-----------------+---------------+----+----------------+-----------+-------------+------+---+-------+---------+-----+---------------------+\n",
      "|               836|                0|            836|   0|               0|          0|            0|     0|  0|      0|        0|    0|                    0|\n",
      "+------------------+-----------------+---------------+----+----------------+-----------+-------------+------+---+-------+---------+-----+---------------------+\n",
      "\n"
     ]
    },
    {
     "name": "stderr",
     "output_type": "stream",
     "text": [
      "                                                                                \r"
     ]
    }
   ],
   "source": [
    "# Check the number of missing features one more time\n",
    "df_small.select([count(when(isnan(c) | col(c).isNull(), c)).alias(c) for c in df.columns if (c not in bool_cols)]).show()"
   ]
  },
  {
   "cell_type": "markdown",
   "id": "ccf42f2c-21f5-4298-8072-7901cb0d63c9",
   "metadata": {},
   "source": [
    "There are a few nulls in the `author_created_utc` and `author_fullname` features, likely where a comment was deleted. Let's remove those."
   ]
  },
  {
   "cell_type": "code",
   "execution_count": 61,
   "id": "04ff81b3-9ac6-499a-a324-83cc2c7b5e10",
   "metadata": {
    "tags": []
   },
   "outputs": [],
   "source": [
    "# Keep only rows/instances/observations not missing any data\n",
    "df_small = df_small.na.drop(how=\"any\")\n",
    "df = df.na.drop(how=\"any\")\n",
    "df_full = df_full.na.drop(how=\"any\")"
   ]
  },
  {
   "cell_type": "markdown",
   "id": "a52ac7e1-1598-4ea9-b057-f37c41e02742",
   "metadata": {
    "jp-MarkdownHeadingCollapsed": true,
    "tags": []
   },
   "source": [
    "### Other Feature Engineering\n",
    "\n",
    "Create new features or adjust feature types as needed. Currently modifies timestamp data, adds a feature of how long a user was on Reddit prior to this comment, and add comment length."
   ]
  },
  {
   "cell_type": "code",
   "execution_count": 62,
   "id": "5c4fcce5-12d8-49ac-b967-a36322748770",
   "metadata": {
    "tags": []
   },
   "outputs": [],
   "source": [
    "# Change the time variables to be datetimes\n",
    "# Add a variable for how long the author has been on Reddit in days (Decimal is used to convert from seconds to days)\n",
    "df_small = df_small \\\n",
    "    .withColumn(\"datetime_posted\",\n",
    "                f.to_timestamp(\"created_utc\")) \\\n",
    "    .withColumn(\"author_days_on_reddit\",\n",
    "                (df_small[\"created_utc\"] - df_small[\"author_created_utc\"])*0.0000115741) \\\n",
    "    .drop(\"created_utc\", \"author_created_utc\")\n",
    "\n",
    "df = df \\\n",
    "    .withColumn(\"datetime_posted\",\n",
    "                f.to_timestamp(\"created_utc\")) \\\n",
    "    .withColumn(\"author_days_on_reddit\",\n",
    "                (df[\"created_utc\"] - df[\"author_created_utc\"])*0.0000115741) \\\n",
    "    .drop(\"created_utc\", \"author_created_utc\")\n",
    "\n",
    "df_full = df_full \\\n",
    "    .withColumn(\"datetime_posted\",\n",
    "                f.to_timestamp(\"created_utc\")) \\\n",
    "    .withColumn(\"author_days_on_reddit\",\n",
    "                (df_full[\"created_utc\"] - df_full[\"author_created_utc\"])*0.0000115741) \\\n",
    "    .drop(\"created_utc\", \"author_created_utc\")"
   ]
  },
  {
   "cell_type": "code",
   "execution_count": 63,
   "id": "e1a0dfde-bca7-4c3c-8483-a0c86e66ab59",
   "metadata": {},
   "outputs": [
    {
     "name": "stderr",
     "output_type": "stream",
     "text": [
      "[Stage 126:====================================================>  (46 + 2) / 48]\r"
     ]
    },
    {
     "name": "stdout",
     "output_type": "stream",
     "text": [
      "+-------------------------------+--------------+--------------+---------------+-----+\n",
      "|mean_time_since_account_created|           Q25|        median|            Q75|count|\n",
      "+-------------------------------+--------------+--------------+---------------+-----+\n",
      "|             1040.0309286140493|187.5414501845|618.3050308335|1607.9368425112| 9089|\n",
      "+-------------------------------+--------------+--------------+---------------+-----+\n",
      "\n"
     ]
    },
    {
     "name": "stderr",
     "output_type": "stream",
     "text": [
      "                                                                                \r"
     ]
    }
   ],
   "source": [
    "# Author's days on Reddit before posting: Average, median, Q25, and Q75 fare amount alongside counts per group\n",
    "df_small.agg(mean(\"author_days_on_reddit\").alias(\"mean_time_since_account_created\"), \n",
    "       expr('percentile(author_days_on_reddit, array(0.25))')[0].alias('Q25'),\n",
    "       expr('percentile(author_days_on_reddit, array(0.5))')[0].alias('median'),\n",
    "       expr('percentile(author_days_on_reddit, array(0.75))')[0].alias('Q75'),\n",
    "       count(\"author_days_on_reddit\").alias(\"count\")).show(10)"
   ]
  },
  {
   "cell_type": "markdown",
   "id": "3745cfb7-62ad-4ed1-9452-d52c655a1cf1",
   "metadata": {},
   "source": [
    "The median commenter has been on Reddit for ~2 years. There is a right skew though, as the mean is ~3 years."
   ]
  },
  {
   "cell_type": "code",
   "execution_count": 64,
   "id": "b0d0b3b7-abd2-435f-a533-7366ab505403",
   "metadata": {
    "tags": []
   },
   "outputs": [],
   "source": [
    "# Assess the number of characters per comment\n",
    "df_small = df_small \\\n",
    "    .withColumn(\"comment_char_length\",\n",
    "                f.length(df_small[\"body\"])) \\\n",
    "    .drop(\"body\")\n",
    "\n",
    "df = df \\\n",
    "    .withColumn(\"comment_char_length\",\n",
    "                f.length(df[\"body\"])) \\\n",
    "    .drop(\"body\")\n",
    "\n",
    "df_full = df_full \\\n",
    "    .withColumn(\"comment_char_length\",\n",
    "                f.length(df_full[\"body\"])) \\\n",
    "    .drop(\"body\")"
   ]
  },
  {
   "cell_type": "code",
   "execution_count": 65,
   "id": "e9c6fbc7-c5b7-46dd-a107-72cff9d5ea5d",
   "metadata": {},
   "outputs": [],
   "source": [
    "# Add in day of week, hour of day, and date for each comment\n",
    "df_small = df_small \\\n",
    "    .withColumn(\"day_of_week\",\n",
    "                dayofweek(\"datetime_posted\")) \\\n",
    "    .withColumn(\"hour\",\n",
    "                hour(\"datetime_posted\")) \\\n",
    "    .withColumn(\"day\",\n",
    "                to_date(\"datetime_posted\"))\n",
    "\n",
    "df = df \\\n",
    "    .withColumn(\"day_of_week\",\n",
    "                dayofweek(\"datetime_posted\")) \\\n",
    "    .withColumn(\"hour\",\n",
    "                hour(\"datetime_posted\")) \\\n",
    "    .withColumn(\"day\",\n",
    "                to_date(\"datetime_posted\"))\n",
    "\n",
    "df_full = df_full \\\n",
    "    .withColumn(\"day_of_week\",\n",
    "                dayofweek(\"datetime_posted\")) \\\n",
    "    .withColumn(\"hour\",\n",
    "                hour(\"datetime_posted\")) \\\n",
    "    .withColumn(\"day\",\n",
    "                to_date(\"datetime_posted\"))"
   ]
  },
  {
   "cell_type": "code",
   "execution_count": 66,
   "id": "f12893be-7fce-46a8-b139-d15844b581c4",
   "metadata": {
    "tags": []
   },
   "outputs": [
    {
     "name": "stderr",
     "output_type": "stream",
     "text": [
      "[Stage 130:==========================================>              (3 + 1) / 4]\r"
     ]
    },
    {
     "name": "stdout",
     "output_type": "stream",
     "text": [
      "+-----------------+---------------+---------+----------------+-------------+------+-------+------------+---------+---------+----------+-----+---------------------+-------------------+---------------------+-------------------+-----------+----+----------+\n",
      "|author_flair_type|author_fullname|collapsed|controversiality|distinguished|gilded|     id|is_submitter|  link_id|no_follow| parent_id|score|total_awards_received|    datetime_posted|author_days_on_reddit|comment_char_length|day_of_week|hour|       day|\n",
      "+-----------------+---------------+---------+----------------+-------------+------+-------+------------+---------+---------+----------+-----+---------------------+-------------------+---------------------+-------------------+-----------+----+----------+\n",
      "|             text|       t2_iomk2|    false|               0|         None|     0|h2ox3x9|       false|t3_o5jepd|     true| t3_o5jepd|    1|                    0|2021-06-22 20:28:12|       2454.624827051|                 16|          3|  20|2021-06-22|\n",
      "|             text|    t2_4o7fglh6|    false|               0|         None|     0|h2ox3yc|       false|t3_o4p5wl|     true| t3_o4p5wl|    1|                    0|2021-06-22 20:28:13|       467.4744036218|                 30|          3|  20|2021-06-22|\n",
      "|             text|       t2_lmm68|    false|               0|         None|     0|h2ox3yl|       false|t3_o5oj09|     true|t1_h2ofypl|    1|                    0|2021-06-22 20:28:13|      2309.3789808677|                303|          3|  20|2021-06-22|\n",
      "|             text|    t2_5ehma2g4|    false|               0|         None|     0|h2ox3z1|       false|t3_o5jepd|     true|t1_h2nzfc7|    3|                    0|2021-06-22 20:28:13|       530.9243605642|                269|          3|  20|2021-06-22|\n",
      "|             text|    t2_2h9qljvh|    false|               0|         None|     0|h2ox3z6|        true|t3_o5wfyf|     true|t1_h2owzx1|    2|                    0|2021-06-22 20:28:13|        71.7618158387|                 39|          3|  20|2021-06-22|\n",
      "+-----------------+---------------+---------+----------------+-------------+------+-------+------------+---------+---------+----------+-----+---------------------+-------------------+---------------------+-------------------+-----------+----+----------+\n",
      "only showing top 5 rows\n",
      "\n"
     ]
    },
    {
     "name": "stderr",
     "output_type": "stream",
     "text": [
      "                                                                                \r"
     ]
    }
   ],
   "source": [
    "df.show(5)"
   ]
  },
  {
   "cell_type": "code",
   "execution_count": 67,
   "id": "9442bc5c-e731-4cdc-aca1-e8950a9c7921",
   "metadata": {},
   "outputs": [
    {
     "name": "stderr",
     "output_type": "stream",
     "text": [
      "                                                                                \r"
     ]
    }
   ],
   "source": [
    "# Save intermediate data\n",
    "df_full.write.format('csv').option('header','true').save(\"s3://mar420-labdata/full_cleaned\", mode=\"overwrite\")"
   ]
  },
  {
   "cell_type": "markdown",
   "id": "6b7381ef-6f44-4bbb-9e92-d1e73aec4bfe",
   "metadata": {
    "jp-MarkdownHeadingCollapsed": true,
    "tags": []
   },
   "source": [
    "### Aggregation"
   ]
  },
  {
   "cell_type": "code",
   "execution_count": 68,
   "id": "e629a0dd-082a-40db-8226-a3e722afd6d6",
   "metadata": {},
   "outputs": [
    {
     "name": "stderr",
     "output_type": "stream",
     "text": [
      "[Stage 134:>                                                        (0 + 1) / 1]\r"
     ]
    },
    {
     "name": "stdout",
     "output_type": "stream",
     "text": [
      "+---------+------------+--------------------+------------------+------------------+-----------------+---------------------+-------------------+\n",
      "|  link_id|num_comments|median_comment_score|mean_comment_score|median_author_days| mean_author_days|median_comment_length|mean_comment_length|\n",
      "+---------+------------+--------------------+------------------+------------------+-----------------+---------------------+-------------------+\n",
      "|t3_ll6arv|           1|                 0.0|               0.0|   2218.3269829302|  2218.3269829302|                 28.0|               28.0|\n",
      "|t3_m4nve2|           3|                 1.0|               1.0|    184.6977632591|554.8454056595666|                 71.0|  89.33333333333333|\n",
      "|t3_mazuqa|           1|                 1.0|               1.0|    477.9759664971|   477.9759664971|                 35.0|               35.0|\n",
      "|t3_mfh861|           1|                 2.0|               2.0|     40.7067115532|    40.7067115532|                148.0|              148.0|\n",
      "|t3_mg5fl3|           1|                 1.0|               1.0|    764.0363989377|   764.0363989377|                  6.0|                6.0|\n",
      "|t3_mlrjhi|           1|                 1.0|               1.0|    216.1218151303|   216.1218151303|                268.0|              268.0|\n",
      "|t3_mqxnz4|           1|                 1.0|               1.0|    202.5449907368|   202.5449907368|                  4.0|                4.0|\n",
      "|t3_mwgnmp|           1|                 1.0|               1.0|      0.0108333576|     0.0108333576|                  4.0|                4.0|\n",
      "|t3_n34b7f|           1|                 1.0|               1.0|    545.2022397688|   545.2022397688|                329.0|              329.0|\n",
      "|t3_n3tn2f|           1|                 1.0|               1.0|    237.9184843251|   237.9184843251|                115.0|              115.0|\n",
      "+---------+------------+--------------------+------------------+------------------+-----------------+---------------------+-------------------+\n",
      "only showing top 10 rows\n",
      "\n"
     ]
    },
    {
     "name": "stderr",
     "output_type": "stream",
     "text": [
      "                                                                                \r"
     ]
    }
   ],
   "source": [
    "# per Post: Comments, score, etc.\n",
    "df_small.groupby(\"link_id\").agg(\n",
    "    count('id').alias('num_comments'),\n",
    "    expr('percentile(score, array(0.5))')[0].alias('median_comment_score'),\n",
    "    mean(\"score\").alias('mean_comment_score'),\n",
    "    expr('percentile(author_days_on_reddit, array(0.5))')[0].alias('median_author_days'),\n",
    "    mean(\"author_days_on_reddit\").alias('mean_author_days'),\n",
    "    expr('percentile(comment_char_length, array(0.5))')[0].alias('median_comment_length'),\n",
    "    mean(\"comment_char_length\").alias('mean_comment_length')).show(10)"
   ]
  },
  {
   "cell_type": "code",
   "execution_count": 69,
   "id": "c940c252-721d-4124-a387-b8c36c38d34b",
   "metadata": {},
   "outputs": [
    {
     "name": "stderr",
     "output_type": "stream",
     "text": [
      "[Stage 137:>                                                        (0 + 1) / 1]\r"
     ]
    },
    {
     "name": "stdout",
     "output_type": "stream",
     "text": [
      "+---------------+-----------------------------+------------+--------------------+------------------+---------------------+-------------------+--------------------------+\n",
      "|author_fullname|num_unique_posts_commented_on|num_comments|median_comment_score|mean_comment_score|median_comment_length|mean_comment_length|num_controversial_comments|\n",
      "+---------------+-----------------------------+------------+--------------------+------------------+---------------------+-------------------+--------------------------+\n",
      "|      t2_100q6s|                            1|           1|                 3.0|               3.0|                 31.0|               31.0|                         0|\n",
      "|      t2_100tgq|                            1|           1|                 1.0|               1.0|                 37.0|               37.0|                         0|\n",
      "|      t2_101nab|                            1|           1|                 1.0|               1.0|                 61.0|               61.0|                         0|\n",
      "|      t2_1032fy|                            4|           4|                 0.5|               1.0|                 72.0|             236.75|                         0|\n",
      "|    t2_104ioxkk|                            2|           2|                 1.0|               1.0|                 79.0|               79.0|                         0|\n",
      "|    t2_104wf19m|                            1|           1|                 1.0|               1.0|                  5.0|                5.0|                         0|\n",
      "|      t2_1070kp|                            1|           1|                 1.0|               1.0|                 19.0|               19.0|                         0|\n",
      "|      t2_107zyn|                            1|           1|               252.0|             252.0|                 17.0|               17.0|                         0|\n",
      "|    t2_109dam7b|                            1|           1|                25.0|              25.0|                 45.0|               45.0|                         0|\n",
      "|      t2_109ftu|                            1|           1|                 0.0|               0.0|                 39.0|               39.0|                         0|\n",
      "+---------------+-----------------------------+------------+--------------------+------------------+---------------------+-------------------+--------------------------+\n",
      "only showing top 10 rows\n",
      "\n"
     ]
    },
    {
     "name": "stderr",
     "output_type": "stream",
     "text": [
      "                                                                                \r"
     ]
    }
   ],
   "source": [
    "# per Author:\n",
    "df_small.groupby(\"author_fullname\").agg(\n",
    "    countDistinct('link_id').alias('num_unique_posts_commented_on'),\n",
    "    count('id').alias('num_comments'),\n",
    "    expr('percentile(score, array(0.5))')[0].alias('median_comment_score'),\n",
    "    mean(\"score\").alias('mean_comment_score'),\n",
    "    expr('percentile(comment_char_length, array(0.5))')[0].alias('median_comment_length'),\n",
    "    mean(\"comment_char_length\").alias('mean_comment_length'),\n",
    "    f.sum(\"controversiality\").alias(\"num_controversial_comments\")).show(10)"
   ]
  },
  {
   "cell_type": "code",
   "execution_count": 70,
   "id": "94dc2d00-e286-430b-b3a2-246d979e08e2",
   "metadata": {},
   "outputs": [
    {
     "name": "stderr",
     "output_type": "stream",
     "text": [
      "[Stage 149:============================================>           (8 + 2) / 10]\r"
     ]
    },
    {
     "name": "stdout",
     "output_type": "stream",
     "text": [
      "+-----------+----------------+------------+------------------+--------------------+------------------+---------------------+-------------------+------------------+------------------+\n",
      "|day_of_week|num_unique_posts|num_comments| comments_per_post|median_comment_score|mean_comment_score|median_comment_length|mean_comment_length|median_author_days|  mean_author_days|\n",
      "+-----------+----------------+------------+------------------+--------------------+------------------+---------------------+-------------------+------------------+------------------+\n",
      "|          1|           46672|      739464| 15.84384641755228|                 1.0|17.874165611848582|                 65.0|  143.7576447264505|   623.28522138725|  1038.58979722252|\n",
      "|          6|           46790|      774109|16.544325710621926|                 1.0|16.681681778664245|                 62.0| 138.64490013680245|    646.5935548478|1066.2297654980048|\n",
      "|          3|           60347|      956344|15.847415778746251|                 1.0|17.146091782873107|                 65.0| 147.08499661209774|   639.43666960345| 1066.000041761686|\n",
      "|          4|           59871|      971705|16.229977785572313|                 1.0|19.049208350270916|                 64.0| 144.24288235627068|    651.4060656278|1075.3558371196693|\n",
      "|          5|           47078|      757237|16.084731721823356|                 1.0| 17.73278379160025|                 65.0| 141.47654829333484|    653.0036502249|1075.6881486889395|\n",
      "|          2|           47534|      742401|15.618315311145706|                 1.0|18.691009306291345|                 62.0|  140.3579372872612|     633.091580159| 1063.727889448982|\n",
      "|          7|           45700|      754462|16.509015317286654|                 1.0|18.817540180950132|                 63.0| 139.31998960848924|    637.2872261313|1056.0358104434529|\n",
      "+-----------+----------------+------------+------------------+--------------------+------------------+---------------------+-------------------+------------------+------------------+\n",
      "\n"
     ]
    },
    {
     "name": "stderr",
     "output_type": "stream",
     "text": [
      "                                                                                \r"
     ]
    }
   ],
   "source": [
    "# per Day of week:\n",
    "df.groupby(\"day_of_week\").agg(\n",
    "    countDistinct('link_id').alias('num_unique_posts'),\n",
    "    count('id').alias('num_comments'),\n",
    "    (count('id')/countDistinct('link_id')).alias(\"comments_per_post\"),\n",
    "    expr('percentile(score, array(0.5))')[0].alias('median_comment_score'),\n",
    "    mean(\"score\").alias('mean_comment_score'),\n",
    "    expr('percentile(comment_char_length, array(0.5))')[0].alias('median_comment_length'),\n",
    "    mean(\"comment_char_length\").alias('mean_comment_length'),\n",
    "    expr('percentile(author_days_on_reddit, array(0.5))')[0].alias('median_author_days'),\n",
    "    mean(\"author_days_on_reddit\").alias('mean_author_days')).show(10)"
   ]
  },
  {
   "cell_type": "markdown",
   "id": "950608c5-eb22-411f-a2c4-f76b28824610",
   "metadata": {},
   "source": [
    "Comments appear to be pretty constent throughout the week, though there are more posts commented on for Tuesday and Wednesday. Comments posted Wednesday hae the highest mean score."
   ]
  },
  {
   "cell_type": "code",
   "execution_count": 71,
   "id": "96f04ed5-4e36-49b6-9d00-8f6d907522cf",
   "metadata": {},
   "outputs": [
    {
     "name": "stderr",
     "output_type": "stream",
     "text": [
      "[Stage 161:===============================================>       (12 + 2) / 14]\r"
     ]
    },
    {
     "name": "stdout",
     "output_type": "stream",
     "text": [
      "+----+----------------+------------+-----------------+--------------------+------------------+---------------------+-------------------+------------------+------------------+\n",
      "|hour|num_unique_posts|num_comments|comments_per_post|median_comment_score|mean_comment_score|median_comment_length|mean_comment_length|median_author_days|  mean_author_days|\n",
      "+----+----------------+------------+-----------------+--------------------+------------------+---------------------+-------------------+------------------+------------------+\n",
      "|  12|           24103|      199065|8.258930423598722|                 1.0| 17.92524049933439|                 64.0| 144.32336171602242|    666.9727208674|1077.8063763610066|\n",
      "|   1|           30130|      255877|8.492432791237968|                 1.0| 14.78389226073465|                 62.0| 136.95866764109317|    653.8921244373| 1075.096985866823|\n",
      "|   6|           24560|      199895|8.139047231270359|                 1.0| 20.12408014207459|                 63.0| 142.11145351309438|    597.9529134856|1017.2776929781987|\n",
      "|   3|           29145|      246510|8.458054554812145|                 1.0|16.914340189038985|                 62.0|  138.6989777290982|   617.99390166435| 1048.015025494987|\n",
      "|   4|           28043|      234007|8.344577969546767|                 1.0|17.376582751798022|                 62.0|   138.720439986838|    604.7057411119| 1035.534751670396|\n",
      "|   8|           20838|      160406|7.697763700930992|                 1.0|19.865840429909106|                 64.0| 147.25175492188572|    602.9311190812|1004.8119426529332|\n",
      "|  11|           21671|      171008|7.891098703336255|                 1.0|16.080113211077844|                 64.0| 143.04253602170658|   642.21865500175| 1058.021217371904|\n",
      "|  19|           32965|      295637| 8.96820870620355|                 1.0|19.503915274475116|                 66.0|  143.7506164654627|    671.0035169334|1096.1137036151592|\n",
      "|  23|           30972|      263975|8.523020792974298|                 1.0|13.277442939672317|                 63.0| 139.76696278056633|    644.3197418841|1061.3108254115061|\n",
      "|  21|           32584|      289301|8.878621409280628|                 1.0|13.934822209394367|                 63.0| 141.33535314430299|    659.4299030456|1081.5728094045037|\n",
      "+----+----------------+------------+-----------------+--------------------+------------------+---------------------+-------------------+------------------+------------------+\n",
      "only showing top 10 rows\n",
      "\n"
     ]
    },
    {
     "name": "stderr",
     "output_type": "stream",
     "text": [
      "                                                                                \r"
     ]
    }
   ],
   "source": [
    "# per Hour of Day:\n",
    "df.groupby(\"hour\").agg(\n",
    "    countDistinct('link_id').alias('num_unique_posts'),\n",
    "    count('id').alias('num_comments'),\n",
    "    (count('id')/countDistinct('link_id')).alias(\"comments_per_post\"),\n",
    "    expr('percentile(score, array(0.5))')[0].alias('median_comment_score'),\n",
    "    mean(\"score\").alias('mean_comment_score'),\n",
    "    expr('percentile(comment_char_length, array(0.5))')[0].alias('median_comment_length'),\n",
    "    mean(\"comment_char_length\").alias('mean_comment_length'),\n",
    "    expr('percentile(author_days_on_reddit, array(0.5))')[0].alias('median_author_days'),\n",
    "    mean(\"author_days_on_reddit\").alias('mean_author_days')).show(10)"
   ]
  },
  {
   "cell_type": "markdown",
   "id": "ecc2d130-4984-4aec-8ae8-6e801502a600",
   "metadata": {},
   "source": [
    "Comments in the middle of the night seem to have lower scores, which is interesting and expected. There are also fewer posts as a whole in the early and middle parts of the day."
   ]
  },
  {
   "cell_type": "markdown",
   "id": "b6f80484-9dad-4696-a447-e7ac9c9f9a90",
   "metadata": {
    "jp-MarkdownHeadingCollapsed": true,
    "tags": []
   },
   "source": [
    "### Correlation"
   ]
  },
  {
   "cell_type": "code",
   "execution_count": 72,
   "id": "ebf309c8-8e5c-49fb-92a7-6fcfdcb2e152",
   "metadata": {},
   "outputs": [
    {
     "name": "stderr",
     "output_type": "stream",
     "text": [
      "                                                                                \r"
     ]
    },
    {
     "name": "stdout",
     "output_type": "stream",
     "text": [
      "+--------------------+--------------------+--------------------+--------------------+--------------------+--------------------+---------------------+---------------------+\n",
      "|           collapsed|    controversiality|              gilded|        is_submitter|           no_follow|               score|total_awards_received|author_days_on_reddit|\n",
      "+--------------------+--------------------+--------------------+--------------------+--------------------+--------------------+---------------------+---------------------+\n",
      "|                 1.0| 0.08221036818612397|2.130511325235847...|-0.01002359777483...|0.024361521453261707|-0.00596513317958...| -1.45879562963133...| 0.006006341469952789|\n",
      "| 0.08221036818612397|                 1.0|7.201960432698459E-4|-0.01281292403124...|0.010735341658379586|-0.00447793059545...| -2.05789120278870...|  0.01187122942586992|\n",
      "|2.130511325235847...|7.201960432698459E-4|                 1.0|-0.00291218558676...|-0.02661227334390789| 0.32344046442864777|    0.412829733289369| 0.004536272968458496|\n",
      "|-0.01002359777483...|-0.01281292403124...|-0.00291218558676...|                 1.0| 0.04866701118095098|-0.00760231192638993| -0.00317376680150384| -0.08951844726359663|\n",
      "|0.024361521453261707|0.010735341658379586|-0.02661227334390789| 0.04866701118095098|                 1.0|-0.07972389539659794| -0.02979697531749...| -0.04427218650475815|\n",
      "|-0.00596513317958...|-0.00447793059545...| 0.32344046442864777|-0.00760231192638993|-0.07972389539659794|                 1.0|  0.40997554195647995| 0.009483355539779826|\n",
      "|-1.45879562963133...|-2.05789120278870...|   0.412829733289369|-0.00317376680150384|-0.02979697531749...| 0.40997554195647995|                  1.0| 0.003940074082433924|\n",
      "|0.006006341469952789| 0.01187122942586992|0.004536272968458496|-0.08951844726359663|-0.04427218650475815|0.009483355539779826| 0.003940074082433924|                  1.0|\n",
      "+--------------------+--------------------+--------------------+--------------------+--------------------+--------------------+---------------------+---------------------+\n",
      "\n"
     ]
    }
   ],
   "source": [
    "from pyspark.ml.stat import Correlation\n",
    "from pyspark.ml.feature import VectorAssembler\n",
    "\n",
    "# convert to vector column first\n",
    "vector_col = \"corr_features\"\n",
    "columns = [\"collapsed\", \"controversiality\", \"gilded\", \"is_submitter\", \n",
    "           \"no_follow\", \"score\", \"total_awards_received\", \"author_days_on_reddit\"]\n",
    "assembler = VectorAssembler(inputCols=columns, outputCol=vector_col)\n",
    "df_vector = assembler.transform(df_full).select(vector_col)\n",
    "\n",
    "# get correlation matrix\n",
    "matrix = Correlation.corr(df_vector, vector_col).collect()[0][0]\n",
    "corrmatrix = matrix.toArray().tolist()\n",
    "df_corr = spark.createDataFrame(corrmatrix, columns)\n",
    "df_corr.show()"
   ]
  },
  {
   "cell_type": "markdown",
   "id": "b1f1ae5a-4088-46be-a93f-65b88cbb5fa3",
   "metadata": {},
   "source": [
    "Interestingly, there's a strong negative correlation between being gilded and whether one's comments were collapsed or controversial. That said, the number of authors who were gilded here was very low, so we can't read too much into this."
   ]
  },
  {
   "cell_type": "markdown",
   "id": "6cadde09-7570-405a-aeea-4f489711401d",
   "metadata": {
    "jp-MarkdownHeadingCollapsed": true,
    "tags": []
   },
   "source": [
    "### Visualizations"
   ]
  },
  {
   "cell_type": "code",
   "execution_count": 73,
   "id": "a2c95c0b-08ed-44db-b0ad-6aaa0b024d92",
   "metadata": {},
   "outputs": [
    {
     "name": "stderr",
     "output_type": "stream",
     "text": [
      "                                                                                \r"
     ]
    }
   ],
   "source": [
    "# Remove a few score outliers to help visualize the data distributions, and convert to a Pandas DataFrame\n",
    "df_viz = df_small.toPandas()\n",
    "df_viz = df_viz.loc[(df_viz[\"score\"] < 20) & (df_viz[\"score\"] > -40)]"
   ]
  },
  {
   "cell_type": "markdown",
   "id": "6aeb2630-09cc-49fb-9166-76655eab0eaa",
   "metadata": {},
   "source": [
    "Running this initially without an upper score limit produced very poor visualizations, as some values were in the 10s of thousands. That said, it also let me know that there are some extreme outliers. The vast majority of comments fall below a rating of 20 and above a rating of -40 though so to see their distributions we'll filter the data."
   ]
  },
  {
   "cell_type": "code",
   "execution_count": 74,
   "id": "33925467-569b-4b4b-8537-492781c10c28",
   "metadata": {},
   "outputs": [
    {
     "data": {
      "text/plain": [
       "<AxesSubplot:xlabel='collapsed', ylabel='score'>"
      ]
     },
     "execution_count": 74,
     "metadata": {},
     "output_type": "execute_result"
    },
    {
     "data": {
      "image/png": "[encoded data removed]",
      "text/plain": [
       "<Figure size 432x288 with 1 Axes>"
      ]
     },
     "metadata": {
      "needs_background": "light"
     },
     "output_type": "display_data"
    }
   ],
   "source": [
    "# Violin Plot of collapsed\n",
    "sns.violinplot(x=df_viz[\"collapsed\"], y=df_viz[\"score\"])"
   ]
  },
  {
   "cell_type": "markdown",
   "id": "e9adddc6-8d47-4efc-913a-2930a859efe0",
   "metadata": {},
   "source": [
    "Collapsed comments appear to often be negative comments, perhaps denoting an attempt by Reddit to hide negative comments."
   ]
  },
  {
   "cell_type": "code",
   "execution_count": 75,
   "id": "a40ff882-1d79-47b2-b415-8cbedd33c022",
   "metadata": {},
   "outputs": [
    {
     "data": {
      "text/plain": [
       "<AxesSubplot:xlabel='no_follow', ylabel='score'>"
      ]
     },
     "execution_count": 75,
     "metadata": {},
     "output_type": "execute_result"
    },
    {
     "data": {
      "image/png": "[encoded data removed]",
      "text/plain": [
       "<Figure size 432x288 with 1 Axes>"
      ]
     },
     "metadata": {
      "needs_background": "light"
     },
     "output_type": "display_data"
    }
   ],
   "source": [
    "# Violin Plot of no_follow\n",
    "sns.violinplot(x=df_viz[\"no_follow\"], y=df_viz[\"score\"])"
   ]
  },
  {
   "cell_type": "markdown",
   "id": "6e68c3d3-5e15-4f56-88cc-b8e42d2ea1be",
   "metadata": {},
   "source": [
    "Comments that are followed and not followed appear to have similar scores and distributions."
   ]
  },
  {
   "cell_type": "code",
   "execution_count": 76,
   "id": "731dd07c-bff2-4e2b-9526-095904aeb706",
   "metadata": {},
   "outputs": [
    {
     "data": {
      "image/png": "[encoded data removed]",
      "text/plain": [
       "<Figure size 432x288 with 1 Axes>"
      ]
     },
     "metadata": {},
     "output_type": "display_data"
    }
   ],
   "source": [
    "# Time on Reddit vs. Score \n",
    "\n",
    "# set seaborn style\n",
    "sns.set_style(\"white\")\n",
    "\n",
    "# Custom the color, add shade and bandwidth\n",
    "sns.kdeplot(x=df_viz[\"score\"], y=df_viz[\"author_days_on_reddit\"], \n",
    "            cmap=\"Reds\", shade=True, bw_adjust=.5)\n",
    "plt.show()"
   ]
  },
  {
   "cell_type": "markdown",
   "id": "a320cf92-ba2e-419b-8cf5-537582781719",
   "metadata": {},
   "source": [
    "Again, the vast majority of scores are at zero, which biases this. There appears to be no correlation here. "
   ]
  },
  {
   "cell_type": "code",
   "execution_count": 77,
   "id": "f6a3b290-f578-4202-a92e-d8901936a025",
   "metadata": {},
   "outputs": [
    {
     "data": {
      "image/png": "[encoded data removed]",
      "text/plain": [
       "<Figure size 432x288 with 1 Axes>"
      ]
     },
     "metadata": {},
     "output_type": "display_data"
    }
   ],
   "source": [
    "# Total Awards vs. Score \n",
    "\n",
    "# Custom the color, add shade and bandwidth\n",
    "sns.kdeplot(x=df_viz[\"score\"], y=df_viz[\"total_awards_received\"])\n",
    "plt.show()"
   ]
  },
  {
   "cell_type": "markdown",
   "id": "156a0269-15a1-4875-ae8f-c6af576e117c",
   "metadata": {},
   "source": [
    "This figure shows us that the vast majority of scores are near zero."
   ]
  },
  {
   "cell_type": "markdown",
   "id": "00349042-eb13-406f-8cd7-e2834185418e",
   "metadata": {
    "tags": []
   },
   "source": [
    "## 3. Models"
   ]
  },
  {
   "cell_type": "code",
   "execution_count": 78,
   "id": "e419b665-8e44-4744-ac4c-912c9b6daf92",
   "metadata": {},
   "outputs": [],
   "source": [
    "from pyspark.ml.feature import StandardScaler\n",
    "from pyspark.ml.regression import GBTRegressor\n",
    "from pyspark.ml.evaluation import RegressionEvaluator\n",
    "from pyspark.ml import Pipeline, Model"
   ]
  },
  {
   "cell_type": "markdown",
   "id": "71d43e4c-771d-45c4-b9d0-0fdf86fcc1ca",
   "metadata": {
    "tags": []
   },
   "source": [
    "### Question Being Explored\n",
    "\n",
    "What determines an author's average comment score?\n",
    "\n",
    "What determines a comment's average score?"
   ]
  },
  {
   "cell_type": "markdown",
   "id": "e3ba0ad9-babd-4962-aba1-d2ab969373bb",
   "metadata": {
    "jp-MarkdownHeadingCollapsed": true,
    "tags": []
   },
   "source": [
    "### Select the Data"
   ]
  },
  {
   "cell_type": "code",
   "execution_count": 79,
   "id": "909181ef-ceba-41e5-a1db-a2075c04cd25",
   "metadata": {
    "tags": []
   },
   "outputs": [
    {
     "name": "stderr",
     "output_type": "stream",
     "text": [
      "[Stage 176:====================================================>(246 + 4) / 250]\r"
     ]
    },
    {
     "name": "stdout",
     "output_type": "stream",
     "text": [
      "+-----------------------------+------------+------------------+--------------------------------+-------------------+-------------------+---------------------------------+-----------------------------+--------------------+--------------------------------+--------------------------------+\n",
      "|num_unique_posts_commented_on|num_comments|             score|mean_awards_received_per_comment|mean_comment_length|mean_days_on_reddit|proportion_controversial_comments|proportion_comments_collapsed|           is_gilded|proportion_comments_on_own_posts|proportion_comments_not_followed|\n",
      "+-----------------------------+------------+------------------+--------------------------------+-------------------+-------------------+---------------------------------+-----------------------------+--------------------+--------------------------------+--------------------------------+\n",
      "|                         2288|        2931|2.3418628454452404|            0.002047082906857...| 112.86421016717844| 1342.3253178811817|             0.007847151142954622|         0.009553053565336063|                 0.0|            0.002729443875810304|              0.8212214261344251|\n",
      "|                          101|         108|1.7962962962962963|                             0.0|  71.38888888888889|  652.6537830788877|                              0.0|         0.009259259259259259|                 0.0|                             0.0|              0.8333333333333334|\n",
      "|                           56|          85|3.1411764705882352|                             0.0|  204.8470588235294| 510.89131378395746|                              0.0|                          0.0|                 0.0|              0.3058823529411765|              0.8235294117647058|\n",
      "|                            8|           8|             1.125|                             0.0|              107.0| 1654.6859590924125|                              0.0|                          0.0|                 0.0|                             0.0|                             1.0|\n",
      "|                           31|          34|12.882352941176471|                             0.0|               96.5|  896.3063667223087|                              0.0|                          0.0|                 0.0|                             0.0|              0.7941176470588235|\n",
      "|                          272|         288|13.444444444444445|            0.017361111111111112|  68.93055555555556|  37.62617791188646|             0.017361111111111112|                          0.0|                 0.0|            0.003472222222222222|              0.8229166666666666|\n",
      "|                           17|          25|             64.84|                            0.12|             135.04|   439.635170428724|                             0.04|                          0.0|                 0.0|                             0.0|                             0.4|\n",
      "|                          952|        1446|22.171507607192254|            0.022821576763485476|  55.75726141078838| 291.47008306447856|             0.006224066390041493|                          0.0|0.001383125864453...|                             0.0|              0.7510373443983402|\n",
      "|                           23|          27| 4.444444444444445|                             0.0|  52.22222222222222| 213.20870503841854|                              0.0|                          0.0|                 0.0|                             0.0|              0.7407407407407407|\n",
      "|                           12|          15| 2.533333333333333|                             0.0|  60.06666666666667|  51.83974497879333|                              0.0|                          0.0|                 0.0|             0.26666666666666666|                             0.8|\n",
      "+-----------------------------+------------+------------------+--------------------------------+-------------------+-------------------+---------------------------------+-----------------------------+--------------------+--------------------------------+--------------------------------+\n",
      "only showing top 10 rows\n",
      "\n"
     ]
    },
    {
     "name": "stderr",
     "output_type": "stream",
     "text": [
      "                                                                                \r"
     ]
    }
   ],
   "source": [
    "# Create a dataframe aggregated by author\n",
    "df_author = df_full.groupby(\"author_fullname\").agg(\n",
    "    countDistinct('link_id').alias('num_unique_posts_commented_on'),\n",
    "    count('id').alias('num_comments'),\n",
    "    mean(\"score\").alias('score'),\n",
    "    mean(\"total_awards_received\").alias('mean_awards_received_per_comment'),\n",
    "    mean(\"comment_char_length\").alias('mean_comment_length'),\n",
    "    mean(\"author_days_on_reddit\").alias('mean_days_on_reddit'),\n",
    "    mean(\"controversiality\").alias(\"proportion_controversial_comments\"),\n",
    "    mean(col(\"collapsed\").cast(\"integer\")).alias(\"proportion_comments_collapsed\"),\n",
    "    mean(\"gilded\").alias(\"is_gilded\"),\n",
    "    mean(col(\"is_submitter\").cast(\"integer\")).alias(\"proportion_comments_on_own_posts\"),\n",
    "    mean(col(\"no_follow\").cast(\"integer\")).alias(\"proportion_comments_not_followed\"),\n",
    "    # f.max(f.struct(col('day_of_week'))).alias('most_common_day_of_week'),\n",
    "    # f.max(f.struct(col('hour'))).alias('most_common_hour'),\n",
    "    ).drop(\"author_fullname\")\n",
    "\n",
    "df_author.show(10)"
   ]
  },
  {
   "cell_type": "code",
   "execution_count": 80,
   "id": "4c278726-a783-4130-bb20-7c78e782133d",
   "metadata": {},
   "outputs": [],
   "source": [
    "# Subset main dataframe\n",
    "cols = [\"collapsed\", \"controversiality\", \n",
    "        \"gilded\", \"is_submitter\",\n",
    "        \"no_follow\", \"score\", \"total_awards_received\", \"author_days_on_reddit\",\n",
    "        \"comment_char_length\", \"day_of_week\", \"hour\"]\n",
    "df_comment = df_full.select(*cols)"
   ]
  },
  {
   "cell_type": "markdown",
   "id": "8923170b-c34e-4ed1-a8f9-3c36ddc1fe07",
   "metadata": {},
   "source": [
    "Note that no categorical features will be used here that aren't already transformed into booleans, as these booleans capture most of the information we're interested in."
   ]
  },
  {
   "cell_type": "markdown",
   "id": "c5df3eec-4a3c-431e-89ca-396ad522fc05",
   "metadata": {
    "jp-MarkdownHeadingCollapsed": true,
    "tags": []
   },
   "source": [
    "### Train-Test Splitting"
   ]
  },
  {
   "cell_type": "code",
   "execution_count": 81,
   "id": "2c1f37af-8061-4886-91d7-ffb2355a03ba",
   "metadata": {},
   "outputs": [],
   "source": [
    "# Split data into training and testing features\n",
    "train_data_a, test_data_a, predict_data_a = df_author.randomSplit([0.8, 0.18, 0.02], 24)\n",
    "train_data_c, test_data_c, predict_data_c = df_comment.randomSplit([0.8, 0.18, 0.02], 24)"
   ]
  },
  {
   "cell_type": "markdown",
   "id": "65da99be-43a3-4f7e-aa63-80713db77e52",
   "metadata": {
    "tags": []
   },
   "source": [
    "### One-Hot Encoding"
   ]
  },
  {
   "cell_type": "markdown",
   "id": "039ecaa2-e175-4e68-9118-a24489b04f17",
   "metadata": {},
   "source": [
    "As none of the feature's we're using are categorical, we will not need to convert strings to numerics here."
   ]
  },
  {
   "cell_type": "markdown",
   "id": "1e454955-d35b-4b78-94b9-ca194296b8cb",
   "metadata": {
    "jp-MarkdownHeadingCollapsed": true,
    "tags": []
   },
   "source": [
    "### Vector Assembler"
   ]
  },
  {
   "cell_type": "code",
   "execution_count": 82,
   "id": "11b1cf61-4f80-4016-8ab3-8b830ba18d4c",
   "metadata": {},
   "outputs": [],
   "source": [
    "# Create a features vector\n",
    "vectorAssembler_features_a = VectorAssembler(\n",
    "    inputCols=  [\"num_unique_posts_commented_on\", \"num_comments\",\n",
    "                \"mean_awards_received_per_comment\", \"mean_comment_length\", \n",
    "                \"mean_days_on_reddit\", \"proportion_controversial_comments\", \n",
    "                \"proportion_comments_collapsed\", \"is_gilded\", \"proportion_comments_on_own_posts\", \n",
    "                \"proportion_comments_not_followed\"], \n",
    "    outputCol=\"features\")\n",
    "\n",
    "vectorAssembler_features_c = VectorAssembler(\n",
    "    inputCols=  [\"collapsed\", \"controversiality\", \n",
    "                 \"gilded\", \"is_submitter\",\n",
    "                 \"no_follow\", \"total_awards_received\", \"author_days_on_reddit\",\n",
    "                 \"comment_char_length\", \"day_of_week\", \"hour\"], \n",
    "    outputCol=\"features\")"
   ]
  },
  {
   "cell_type": "markdown",
   "id": "26a533c8-7062-4e10-a0a2-40249ee01091",
   "metadata": {
    "jp-MarkdownHeadingCollapsed": true,
    "tags": []
   },
   "source": [
    "### Standard Scaling"
   ]
  },
  {
   "cell_type": "code",
   "execution_count": 83,
   "id": "3e394218-927c-4d51-b0ad-d24f5c0e201d",
   "metadata": {},
   "outputs": [],
   "source": [
    "# Standardize the scales of all features\n",
    "standardScaler = StandardScaler(inputCol = \"features\",\n",
    "                                outputCol = \"scaled_features\")"
   ]
  },
  {
   "cell_type": "markdown",
   "id": "0b06b19a-dd2e-43a9-9882-629e2cd50ed4",
   "metadata": {
    "tags": []
   },
   "source": [
    "### Supervised Learning Model\n",
    "\n",
    "A gradient boosted tree will be used here as it works well with low dimensionality datasets. This is because decision trees grow bigger the more features there are to split on. As we have only 12 features, this will work nicely."
   ]
  },
  {
   "cell_type": "code",
   "execution_count": 84,
   "id": "48644a46-f476-4ace-baba-64751e37563d",
   "metadata": {},
   "outputs": [],
   "source": [
    "# Initialize a gradient boosted trees regressor\n",
    "gbt = GBTRegressor(featuresCol = \"scaled_features\", labelCol = \"score\")"
   ]
  },
  {
   "cell_type": "code",
   "execution_count": 85,
   "id": "93999de2-810e-4e00-98a5-d46f2a459873",
   "metadata": {},
   "outputs": [],
   "source": [
    "# Create two simple ML pipeline of scalings, feature vectors, and models\n",
    "pipeline_gbt_a = Pipeline(stages=[vectorAssembler_features_a, \n",
    "                                standardScaler,\n",
    "                                gbt])\n",
    "\n",
    "pipeline_gbt_c = Pipeline(stages=[vectorAssembler_features_c, \n",
    "                                standardScaler,\n",
    "                                gbt])"
   ]
  },
  {
   "cell_type": "code",
   "execution_count": 86,
   "id": "2c0dfce2-8647-460c-9510-b123f8f7fb7a",
   "metadata": {
    "tags": []
   },
   "outputs": [
    {
     "name": "stderr",
     "output_type": "stream",
     "text": [
      "                                                                                \r"
     ]
    }
   ],
   "source": [
    "# Train the models\n",
    "model_gbt_a = pipeline_gbt_a.fit(train_data_a)\n",
    "model_gbt_c = pipeline_gbt_c.fit(train_data_c)"
   ]
  },
  {
   "cell_type": "code",
   "execution_count": 87,
   "id": "5ae965e2-a794-4228-9589-a88cb9d33299",
   "metadata": {},
   "outputs": [
    {
     "name": "stderr",
     "output_type": "stream",
     "text": [
      "                                                                                \r"
     ]
    }
   ],
   "source": [
    "# Save models\n",
    "model_gbt_a.write().overwrite().save(\"s3://mar420-labdata/gbt_author_score_model\")\n",
    "model_gbt_c.write().overwrite().save(\"s3://mar420-labdata/gbt_comment_score_model\")"
   ]
  },
  {
   "cell_type": "markdown",
   "id": "a19711e8-a21b-4ef8-89ec-75209aa7c251",
   "metadata": {
    "tags": []
   },
   "source": [
    "### Performance Evaluation\n",
    "\n",
    "Here we use root mean squared error to assess how successful this model has been."
   ]
  },
  {
   "cell_type": "code",
   "execution_count": 88,
   "id": "726a8666-e832-46bf-b2f0-1cd6cb7d16df",
   "metadata": {},
   "outputs": [],
   "source": [
    "# Transform the test data using our pipelines\n",
    "predictions_a = model_gbt_a.transform(test_data_a)\n",
    "predictions_c = model_gbt_c.transform(test_data_c)"
   ]
  },
  {
   "cell_type": "code",
   "execution_count": 89,
   "id": "24f52b80-f07e-4f5d-b69e-4deb387269b4",
   "metadata": {},
   "outputs": [
    {
     "name": "stderr",
     "output_type": "stream",
     "text": [
      "                                                                                \r"
     ]
    }
   ],
   "source": [
    "# Evaluate our models using accuracy score\n",
    "evaluatorRF = RegressionEvaluator(labelCol=\"score\", metricName=\"rmse\")\n",
    "rmse_a = evaluatorRF.evaluate(predictions_a)\n",
    "rmse_c = evaluatorRF.evaluate(predictions_c)"
   ]
  },
  {
   "cell_type": "code",
   "execution_count": 90,
   "id": "1c4c880b-3548-43f8-afb7-674d4bf31574",
   "metadata": {},
   "outputs": [
    {
     "name": "stdout",
     "output_type": "stream",
     "text": [
      "RMSE (Authors) = 205.808\n",
      "RMSE (Comments) = 323.842\n"
     ]
    }
   ],
   "source": [
    "# Show the testing accuracy and error\n",
    "print(\"RMSE (Authors) = %g\" % rmse_a)\n",
    "print(\"RMSE (Comments) = %g\" % rmse_c)"
   ]
  },
  {
   "cell_type": "markdown",
   "id": "0cd055b5-6bde-478f-afc2-2376b6021879",
   "metadata": {},
   "source": [
    "## 4. Future Work\n",
    "\n",
    "If I could continue this work into the future, I'd explore two different ideas. First, how do one's prior comments impact the score/awards of their current comments? For example, do people with longer, more engaged with comments in the past maintain and build on that engagement? Essentially, I'm curious in exploring further how one's engagement with a subreddit influences that subreddit's engagement with them.\n",
    "\n",
    "Second, I'd like to run a sentiment analysis or topic model on the text of comments. That way, I could find out if negative or positive comments are more engaged with and whether certain topics are more popular."
   ]
  },
  {
   "cell_type": "markdown",
   "id": "eb27a8d0-9927-42ab-a4fa-6532f06d8214",
   "metadata": {
    "tags": []
   },
   "source": [
    "# MAKE SURE YOU STOP YOUR EMR CLUSTER!"
   ]
  },
  {
   "cell_type": "code",
   "execution_count": 91,
   "id": "c4c9c2e3-7fa7-4d64-bb68-646b6ffe9bdc",
   "metadata": {},
   "outputs": [],
   "source": [
    "spark.stop()"
   ]
  }
 ],
 "metadata": {
  "kernelspec": {
   "display_name": "Python 3 (ipykernel)",
   "language": "python",
   "name": "python3"
  },
  "language_info": {
   "codemirror_mode": {
    "name": "ipython",
    "version": 3
   },
   "file_extension": ".py",
   "mimetype": "text/x-python",
   "name": "python",
   "nbconvert_exporter": "python",
   "pygments_lexer": "ipython3",
   "version": "3.7.11"
  }
 },
 "nbformat": 4,
 "nbformat_minor": 5
}
